{
 "cells": [
  {
   "cell_type": "code",
   "execution_count": 1,
   "metadata": {},
   "outputs": [
    {
     "name": "stderr",
     "output_type": "stream",
     "text": [
      "C:\\Users\\boodm\\Anaconda3\\lib\\site-packages\\h5py\\__init__.py:34: FutureWarning: Conversion of the second argument of issubdtype from `float` to `np.floating` is deprecated. In future, it will be treated as `np.float64 == np.dtype(float).type`.\n",
      "  from ._conv import register_converters as _register_converters\n"
     ]
    }
   ],
   "source": [
    "import tensorflow as tf\n",
    "import matplotlib.pyplot as plt\n",
    "import numpy as np"
   ]
  },
  {
   "cell_type": "code",
   "execution_count": 2,
   "metadata": {
    "collapsed": true
   },
   "outputs": [],
   "source": [
    "p1 = ( 1., 1.)\n",
    "p2 = ( 7., 7.)"
   ]
  },
  {
   "cell_type": "markdown",
   "metadata": {},
   "source": [
    "# 식\n",
    "y = ax + b<br>\n",
    "# 행렬식\n",
    "[y1] = [x1 1] [a]<br>\n",
    "[y2] = [x2 1] [b]\n",
    "# 풀이\n",
    "X_inverse Y = ab"
   ]
  },
  {
   "cell_type": "code",
   "execution_count": 3,
   "metadata": {},
   "outputs": [],
   "source": [
    "X = [ [ p1[0], 1 ],\n",
    "      [ p2[0], 1 ] ]\n",
    "Y = [ [ p1[1] ],\n",
    "      [ p2[1] ] ]"
   ]
  },
  {
   "cell_type": "code",
   "execution_count": 4,
   "metadata": {},
   "outputs": [],
   "source": [
    "ab = tf.matmul(tf.matrix_inverse(X), Y)"
   ]
  },
  {
   "cell_type": "code",
   "execution_count": 5,
   "metadata": {
    "collapsed": true
   },
   "outputs": [],
   "source": [
    "with tf.Session() as session:\n",
    "    ab_cpu = session.run(ab)"
   ]
  },
  {
   "cell_type": "code",
   "execution_count": 6,
   "metadata": {},
   "outputs": [
    {
     "data": {
      "text/plain": [
       "array([[ 1.0000001e+00],\n",
       "       [-1.1920929e-07]], dtype=float32)"
      ]
     },
     "execution_count": 6,
     "metadata": {},
     "output_type": "execute_result"
    }
   ],
   "source": [
    "ab_cpu"
   ]
  },
  {
   "cell_type": "code",
   "execution_count": 7,
   "metadata": {},
   "outputs": [
    {
     "name": "stdout",
     "output_type": "stream",
     "text": [
      "Equation: y = [1.0000001]x + [-1.1920929e-07]\n"
     ]
    }
   ],
   "source": [
    "a = ab_cpu[0]\n",
    "b = ab_cpu[1]\n",
    "print(\"Equation: y = {a}x + {b}\".format(a=a, b=b))"
   ]
  },
  {
   "cell_type": "code",
   "execution_count": 8,
   "metadata": {},
   "outputs": [
    {
     "data": {
      "image/png": "[encoded data removed]",
      "text/plain": [
       "<matplotlib.figure.Figure at 0x21aec7459e8>"
      ]
     },
     "metadata": {},
     "output_type": "display_data"
    }
   ],
   "source": [
    "plt.plot([p1[0], p2[0]], [p1[1],p2[1]], 'bo')\n",
    "plt.plot([p1[0], a*p2[0]+b], [p1[1],a*p2[1]+b])\n",
    "plt.show()"
   ]
  },
  {
   "cell_type": "code",
   "execution_count": 9,
   "metadata": {},
   "outputs": [],
   "source": [
    "x = [ 0., 5., 0.]\n",
    "y = [ 0., 5., 3.]\n",
    "x = np.array(x)\n",
    "y = np.array(y)"
   ]
  },
  {
   "cell_type": "markdown",
   "metadata": {},
   "source": [
    "# 식\n",
    "(x-a)<sup>2</sup> + (y-b)<sup>2</sup> = r<sup>2</sup> <br>\n",
    "x<sup>2</sup> -2ax + a<sup>2</sup>+ y<sup>2</sup> -2by + b<sup>2</sup>= r<sup>2</sup><br>\n",
    "x<sup>2</sup> + y<sup>2</sup> + dx + ey + f = 0 <br>\n",
    "# 행렬식\n",
    "[ x1 y1 1 ] [ d ] = [ - x1<sup>2</sup> - y1<sup>2</sup>]<br>\n",
    "[ x2 y2 1 ] [ e ] = [ - x2<sup>2</sup> - y2<sup>2</sup>]<br>\n",
    "[ x3 y3 1 ] [ f ] = [ - x3<sup>2</sup> - y3<sup>2</sup>]<br>"
   ]
  },
  {
   "cell_type": "code",
   "execution_count": 10,
   "metadata": {},
   "outputs": [],
   "source": [
    "A = np.concatenate( (x.reshape(-1,1), y.reshape(-1,1), [[1.], [1.], [1.]]), axis=1)"
   ]
  },
  {
   "cell_type": "code",
   "execution_count": 11,
   "metadata": {},
   "outputs": [],
   "source": [
    "B = -(x * x + y * y).reshape(-1,1)"
   ]
  },
  {
   "cell_type": "code",
   "execution_count": 12,
   "metadata": {},
   "outputs": [],
   "source": [
    "def_mat = tf.matmul(tf.matrix_inverse(A), B)"
   ]
  },
  {
   "cell_type": "code",
   "execution_count": 13,
   "metadata": {},
   "outputs": [],
   "source": [
    "with tf.Session() as session:\n",
    "    def_cpu = session.run(def_mat)"
   ]
  },
  {
   "cell_type": "code",
   "execution_count": 14,
   "metadata": {},
   "outputs": [],
   "source": [
    "d,e,f = def_cpu"
   ]
  },
  {
   "cell_type": "markdown",
   "metadata": {},
   "source": [
    "# 식\n",
    "x<sup>2</sup> -2ax + a<sup>2</sup>+ y<sup>2</sup> -2by + b<sup>2</sup>= r<sup>2</sup><br>\n",
    "x<sup>2</sup> + y<sup>2</sup> + dx + ey + f = 0 <br>\n",
    "a = -d/2, b = -e/2, r<sup>2</sup> = a<sup>2</sup>+b<sup>2</sup>-f"
   ]
  },
  {
   "cell_type": "code",
   "execution_count": 15,
   "metadata": {
    "scrolled": true
   },
   "outputs": [],
   "source": [
    "a = -d/2\n",
    "b = -e/2\n",
    "r = np.sqrt(a*a + b*b - f)"
   ]
  },
  {
   "cell_type": "code",
   "execution_count": 16,
   "metadata": {},
   "outputs": [
    {
     "data": {
      "image/png": "[encoded data removed]",
      "text/plain": [
       "<matplotlib.figure.Figure at 0x21aee7bd320>"
      ]
     },
     "metadata": {},
     "output_type": "display_data"
    }
   ],
   "source": [
    "circle=plt.Circle((a,b),r, fill=False)\n",
    "ax=plt.gca()\n",
    "ax.add_patch(circle)\n",
    "plt.plot(x, y, 'bo')\n",
    "plt.axis('scaled')\n",
    "plt.show()\n"
   ]
  },
  {
   "cell_type": "code",
   "execution_count": null,
   "metadata": {
    "collapsed": true
   },
   "outputs": [],
   "source": []
  }
 ],
 "metadata": {
  "kernelspec": {
   "display_name": "Python 3",
   "language": "python",
   "name": "python3"
  },
  "language_info": {
   "codemirror_mode": {
    "name": "ipython",
    "version": 3
   },
   "file_extension": ".py",
   "mimetype": "text/x-python",
   "name": "python",
   "nbconvert_exporter": "python",
   "pygments_lexer": "ipython3",
   "version": "3.6.3"
  }
 },
 "nbformat": 4,
 "nbformat_minor": 2
}
