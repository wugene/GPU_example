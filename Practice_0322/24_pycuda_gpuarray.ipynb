{
 "cells": [
  {
   "cell_type": "code",
   "execution_count": 1,
   "metadata": {
    "collapsed": true
   },
   "outputs": [],
   "source": [
    "import numpy as np\n",
    "from pycuda import driver, compiler, gpuarray, tools\n",
    "\n",
    "# -- initialize the device\n",
    "import pycuda.autoinit"
   ]
  },
  {
   "cell_type": "code",
   "execution_count": 2,
   "metadata": {
    "collapsed": true
   },
   "outputs": [],
   "source": [
    "MATRIX_SIZE = 100"
   ]
  },
  {
   "cell_type": "code",
   "execution_count": 3,
   "metadata": {
    "collapsed": true
   },
   "outputs": [],
   "source": [
    "a_cpu = np.random.randn(MATRIX_SIZE, MATRIX_SIZE).astype(np.float32)\n",
    "b_cpu = np.random.randn(MATRIX_SIZE, MATRIX_SIZE).astype(np.float32)\n",
    "\n",
    "b_cpu_T = b_cpu.T.copy()"
   ]
  },
  {
   "cell_type": "code",
   "execution_count": 4,
   "metadata": {
    "collapsed": true
   },
   "outputs": [],
   "source": [
    "a_gpu = gpuarray.to_gpu(a_cpu)\n",
    "b_gpu = gpuarray.to_gpu(b_cpu)\n",
    "c_gpu = gpuarray.empty((MATRIX_SIZE, MATRIX_SIZE), np.float32)"
   ]
  },
  {
   "cell_type": "code",
   "execution_count": 5,
   "metadata": {},
   "outputs": [],
   "source": [
    "#c_gpu[0,0] = gpuarray.dot(a_gpu[0,:], b_gpu[:,0])"
   ]
  },
  {
   "cell_type": "code",
   "execution_count": 6,
   "metadata": {
    "collapsed": true
   },
   "outputs": [],
   "source": [
    "c_gpu[0,0] = gpuarray.dot(a_gpu[0,:], b_gpu[0,:])"
   ]
  },
  {
   "cell_type": "code",
   "execution_count": 7,
   "metadata": {
    "collapsed": true
   },
   "outputs": [],
   "source": [
    "a_gpu = gpuarray.to_gpu(a_cpu)\n",
    "b_gpu = gpuarray.to_gpu(b_cpu_T)\n",
    "c_gpu = gpuarray.empty((MATRIX_SIZE, MATRIX_SIZE), np.float32)"
   ]
  },
  {
   "cell_type": "code",
   "execution_count": 8,
   "metadata": {},
   "outputs": [],
   "source": [
    "for x in range(MATRIX_SIZE):\n",
    "    for y in range(MATRIX_SIZE):\n",
    "        c_gpu[y,x] = gpuarray.dot(a_gpu[y], b_gpu[x])"
   ]
  },
  {
   "cell_type": "code",
   "execution_count": 9,
   "metadata": {},
   "outputs": [
    {
     "data": {
      "text/plain": [
       "array([[-15.943892 ,   8.425479 ,   8.740665 , ...,  12.395147 ,\n",
       "         20.13782  ,  -3.8797064],\n",
       "       [ -6.9981346,  -2.3953748,  -8.22378  , ...,  -9.395988 ,\n",
       "         16.733772 ,   2.8975835],\n",
       "       [ -9.956326 ,  -1.59469  ,   2.7385802, ...,  -1.4993839,\n",
       "          7.380319 , -12.53579  ],\n",
       "       ...,\n",
       "       [-12.122833 , -18.453775 ,  -6.8814554, ...,   3.0014193,\n",
       "         13.673326 ,   2.9579916],\n",
       "       [ 19.295204 ,   9.464533 ,   5.381792 , ...,  -9.062072 ,\n",
       "        -12.94082  ,   5.5380535],\n",
       "       [  5.358036 ,  -2.5441356,   2.0077386, ...,  -6.541136 ,\n",
       "         -5.8639827,   1.4111109]], dtype=float32)"
      ]
     },
     "execution_count": 9,
     "metadata": {},
     "output_type": "execute_result"
    }
   ],
   "source": [
    "c_gpu.get()"
   ]
  },
  {
   "cell_type": "code",
   "execution_count": 10,
   "metadata": {},
   "outputs": [
    {
     "data": {
      "text/plain": [
       "array([[-15.943894 ,   8.425481 ,   8.740665 , ...,  12.395147 ,\n",
       "         20.137825 ,  -3.879705 ],\n",
       "       [ -6.998134 ,  -2.3953762,  -8.223779 , ...,  -9.395988 ,\n",
       "         16.733767 ,   2.8975844],\n",
       "       [ -9.956324 ,  -1.5946876,   2.7385788, ...,  -1.4993857,\n",
       "          7.3803167, -12.53579  ],\n",
       "       ...,\n",
       "       [-12.122831 , -18.453777 ,  -6.8814554, ...,   3.0014184,\n",
       "         13.6733265,   2.9579895],\n",
       "       [ 19.295198 ,   9.464533 ,   5.3817916, ...,  -9.062075 ,\n",
       "        -12.940815 ,   5.538054 ],\n",
       "       [  5.358035 ,  -2.5441353,   2.0077388, ...,  -6.5411367,\n",
       "         -5.863979 ,   1.4111106]], dtype=float32)"
      ]
     },
     "execution_count": 10,
     "metadata": {},
     "output_type": "execute_result"
    }
   ],
   "source": [
    "a_cpu @ b_cpu"
   ]
  },
  {
   "cell_type": "code",
   "execution_count": 11,
   "metadata": {
    "collapsed": true
   },
   "outputs": [],
   "source": [
    "a_cpu = np.random.randn(MATRIX_SIZE * 3, MATRIX_SIZE * 5).astype(np.float32)\n",
    "b_cpu = np.random.randn(MATRIX_SIZE * 5, MATRIX_SIZE * 2).astype(np.float32)\n",
    "\n",
    "b_cpu_T = b_cpu.T.copy()\n",
    "c_cpu = np.random.randn(MATRIX_SIZE * 3, MATRIX_SIZE * 2).astype(np.float32)"
   ]
  },
  {
   "cell_type": "code",
   "execution_count": 12,
   "metadata": {},
   "outputs": [],
   "source": [
    "for y_blk in range(3):\n",
    "    for x_blk in range(2):\n",
    "        \n",
    "        y_start = y_blk * MATRIX_SIZE\n",
    "        x_start = x_blk * MATRIX_SIZE\n",
    "        \n",
    "        y_end = y_start + MATRIX_SIZE\n",
    "        x_end = x_start + MATRIX_SIZE\n",
    "\n",
    "        a_gpu = gpuarray.to_gpu(a_cpu[y_start : y_end])\n",
    "        b_gpu = gpuarray.to_gpu(b_cpu[x_start : x_end])\n",
    "        c_gpu = gpuarray.empty((MATRIX_SIZE, MATRIX_SIZE), np.float32)\n",
    "        \n",
    "        for x in range(MATRIX_SIZE):\n",
    "            for y in range(MATRIX_SIZE):\n",
    "                c_gpu[y,x] = gpuarray.dot(a_gpu[y], b_gpu[x])\n",
    "        \n",
    "        c_cpu[ y_start : y_end, x_start : x_end ] = c_gpu.get()"
   ]
  },
  {
   "cell_type": "code",
   "execution_count": 13,
   "metadata": {},
   "outputs": [
    {
     "data": {
      "text/plain": [
       "(300, 200)"
      ]
     },
     "execution_count": 13,
     "metadata": {},
     "output_type": "execute_result"
    }
   ],
   "source": [
    "c_cpu.shape"
   ]
  },
  {
   "cell_type": "code",
   "execution_count": 14,
   "metadata": {},
   "outputs": [],
   "source": [
    "c_gpu = gpuarray.empty((MATRIX_SIZE, MATRIX_SIZE), np.float32)\n",
    "\n",
    "for y_blk in range(3):\n",
    "    y_start = y_blk * MATRIX_SIZE\n",
    "    y_end = y_start + MATRIX_SIZE\n",
    "    a_gpu = gpuarray.to_gpu(a_cpu[y_start : y_end])    \n",
    "\n",
    "    for x_blk in range(2):\n",
    "        x_start = x_blk * MATRIX_SIZE    \n",
    "        x_end = x_start + MATRIX_SIZE\n",
    "        b_gpu = gpuarray.to_gpu(b_cpu[x_start : x_end])\n",
    "        \n",
    "        for x in range(MATRIX_SIZE):\n",
    "            for y in range(MATRIX_SIZE):\n",
    "                c_gpu[y,x] = gpuarray.dot(a_gpu[y], b_gpu[x])\n",
    "        \n",
    "        c_cpu[ y_start : y_end, x_start : x_end ] = c_gpu.get()"
   ]
  }
 ],
 "metadata": {
  "kernelspec": {
   "display_name": "Python 3",
   "language": "python",
   "name": "python3"
  },
  "language_info": {
   "codemirror_mode": {
    "name": "ipython",
    "version": 3
   },
   "file_extension": ".py",
   "mimetype": "text/x-python",
   "name": "python",
   "nbconvert_exporter": "python",
   "pygments_lexer": "ipython3",
   "version": "3.6.3"
  }
 },
 "nbformat": 4,
 "nbformat_minor": 2
}
