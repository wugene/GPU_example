{
 "cells": [
  {
   "cell_type": "code",
   "execution_count": 1,
   "metadata": {},
   "outputs": [
    {
     "name": "stderr",
     "output_type": "stream",
     "text": [
      "/home/wooyang/anaconda3/lib/python3.6/importlib/_bootstrap.py:219: RuntimeWarning: compiletime version 3.5 of module 'tensorflow.python.framework.fast_tensor_util' does not match runtime version 3.6\n",
      "  return f(*args, **kwds)\n",
      "/home/wooyang/anaconda3/lib/python3.6/site-packages/h5py/__init__.py:34: FutureWarning: Conversion of the second argument of issubdtype from `float` to `np.floating` is deprecated. In future, it will be treated as `np.float64 == np.dtype(float).type`.\n",
      "  from ._conv import register_converters as _register_converters\n"
     ]
    }
   ],
   "source": [
    "import numpy as np\n",
    "import tensorflow as tf"
   ]
  },
  {
   "cell_type": "code",
   "execution_count": 2,
   "metadata": {
    "collapsed": true
   },
   "outputs": [],
   "source": [
    "N=1000\n",
    "a = np.random.rand(N,N)\n",
    "b = np.random.rand(N,N)"
   ]
  },
  {
   "cell_type": "code",
   "execution_count": 3,
   "metadata": {
    "collapsed": true
   },
   "outputs": [],
   "source": [
    "c_tf = tf.matmul(a, b)"
   ]
  },
  {
   "cell_type": "code",
   "execution_count": 4,
   "metadata": {
    "collapsed": true,
    "scrolled": true
   },
   "outputs": [],
   "source": [
    "with tf.Session() as sess:\n",
    "    c_gpu = sess.run(c_tf)"
   ]
  },
  {
   "cell_type": "code",
   "execution_count": 5,
   "metadata": {
    "collapsed": true
   },
   "outputs": [],
   "source": [
    "c_cpu = np.matmul(a,b)"
   ]
  },
  {
   "cell_type": "code",
   "execution_count": 6,
   "metadata": {},
   "outputs": [
    {
     "data": {
      "text/plain": [
       "1.3719159142056014e-10"
      ]
     },
     "execution_count": 6,
     "metadata": {},
     "output_type": "execute_result"
    }
   ],
   "source": [
    "(c_gpu-c_cpu).sum()"
   ]
  },
  {
   "cell_type": "code",
   "execution_count": 7,
   "metadata": {
    "collapsed": true
   },
   "outputs": [],
   "source": [
    "a_tf = tf.placeholder('float32', (None,None))\n",
    "b_tf = tf.placeholder('float32', (None,None))"
   ]
  },
  {
   "cell_type": "code",
   "execution_count": 8,
   "metadata": {
    "collapsed": true
   },
   "outputs": [],
   "source": [
    "c_tf = tf.matmul(a_tf, b_tf)"
   ]
  },
  {
   "cell_type": "code",
   "execution_count": 9,
   "metadata": {
    "scrolled": true
   },
   "outputs": [
    {
     "name": "stdout",
     "output_type": "stream",
     "text": [
      "Matrix: 2000 x 2000\n",
      "263 ms ± 0 ns per loop (mean ± std. dev. of 1 run, 1 loop each)\n",
      "Matrix: 4000 x 4000\n",
      "365 ms ± 0 ns per loop (mean ± std. dev. of 1 run, 1 loop each)\n",
      "Matrix: 8000 x 8000\n",
      "1.78 s ± 0 ns per loop (mean ± std. dev. of 1 run, 1 loop each)\n",
      "Matrix: 16000 x 16000\n",
      "7.14 s ± 0 ns per loop (mean ± std. dev. of 1 run, 1 loop each)\n"
     ]
    }
   ],
   "source": [
    "with tf.Session() as sess:\n",
    "    for N in [2000, 4000, 8000, 16000]:\n",
    "        a = np.random.rand(N,N)\n",
    "        b = np.random.rand(N,N)\n",
    "        print( \"Matrix:\", N, \"x\", N)\n",
    "        %timeit -n 1 -r 1 c = sess.run(c_tf, feed_dict={a_tf: a, b_tf: b})"
   ]
  },
  {
   "cell_type": "code",
   "execution_count": 10,
   "metadata": {},
   "outputs": [
    {
     "name": "stdout",
     "output_type": "stream",
     "text": [
      "Matrix: 2000 x 2000\n",
      "134 ms ± 0 ns per loop (mean ± std. dev. of 1 run, 1 loop each)\n",
      "Matrix: 4000 x 4000\n",
      "599 ms ± 0 ns per loop (mean ± std. dev. of 1 run, 1 loop each)\n",
      "Matrix: 8000 x 8000\n",
      "3.35 s ± 0 ns per loop (mean ± std. dev. of 1 run, 1 loop each)\n",
      "Matrix: 16000 x 16000\n",
      "15.7 s ± 0 ns per loop (mean ± std. dev. of 1 run, 1 loop each)\n"
     ]
    }
   ],
   "source": [
    "for N in [2000, 4000, 8000, 16000]:\n",
    "    a = np.random.rand(N,N)\n",
    "    b = np.random.rand(N,N)\n",
    "    print( \"Matrix:\", N, \"x\", N)\n",
    "    %timeit -n 1 -r 1 c = np.matmul(a,b)"
   ]
  },
  {
   "cell_type": "code",
   "execution_count": 11,
   "metadata": {
    "collapsed": true
   },
   "outputs": [],
   "source": [
    "d_tf = a_tf * b_tf"
   ]
  },
  {
   "cell_type": "code",
   "execution_count": 14,
   "metadata": {},
   "outputs": [
    {
     "name": "stdout",
     "output_type": "stream",
     "text": [
      "Matrix: 2000 x 2000\n",
      "86.2 ms ± 0 ns per loop (mean ± std. dev. of 1 run, 1 loop each)\n",
      "Matrix: 4000 x 4000\n",
      "110 ms ± 0 ns per loop (mean ± std. dev. of 1 run, 1 loop each)\n",
      "Matrix: 8000 x 8000\n",
      "377 ms ± 0 ns per loop (mean ± std. dev. of 1 run, 1 loop each)\n",
      "Matrix: 16000 x 16000\n",
      "1.49 s ± 0 ns per loop (mean ± std. dev. of 1 run, 1 loop each)\n"
     ]
    }
   ],
   "source": [
    "with tf.Session() as sess:\n",
    "    for N in [2000, 4000, 8000, 16000]:\n",
    "        a = np.random.rand(N,N)\n",
    "        b = np.random.rand(N,N)\n",
    "        print( \"Matrix:\", N, \"x\", N)\n",
    "        %timeit -n 1 -r 1 c = sess.run(d_tf, feed_dict={a_tf: a, b_tf: b})"
   ]
  },
  {
   "cell_type": "code",
   "execution_count": 15,
   "metadata": {},
   "outputs": [
    {
     "name": "stdout",
     "output_type": "stream",
     "text": [
      "Matrix: 2000 x 2000\n",
      "16.5 ms ± 0 ns per loop (mean ± std. dev. of 1 run, 1 loop each)\n",
      "Matrix: 4000 x 4000\n",
      "64.5 ms ± 0 ns per loop (mean ± std. dev. of 1 run, 1 loop each)\n",
      "Matrix: 8000 x 8000\n",
      "241 ms ± 0 ns per loop (mean ± std. dev. of 1 run, 1 loop each)\n",
      "Matrix: 16000 x 16000\n",
      "982 ms ± 0 ns per loop (mean ± std. dev. of 1 run, 1 loop each)\n"
     ]
    }
   ],
   "source": [
    "for N in [2000, 4000, 8000, 16000]:\n",
    "    a = np.random.rand(N,N)\n",
    "    b = np.random.rand(N,N)\n",
    "    print( \"Matrix:\", N, \"x\", N)\n",
    "    %timeit -n 1 -r 1 c = a * b"
   ]
  },
  {
   "cell_type": "code",
   "execution_count": null,
   "metadata": {
    "collapsed": true
   },
   "outputs": [],
   "source": []
  }
 ],
 "metadata": {
  "kernelspec": {
   "display_name": "Python 3",
   "language": "python",
   "name": "python3"
  },
  "language_info": {
   "codemirror_mode": {
    "name": "ipython",
    "version": 3
   },
   "file_extension": ".py",
   "mimetype": "text/x-python",
   "name": "python",
   "nbconvert_exporter": "python",
   "pygments_lexer": "ipython3",
   "version": "3.6.3"
  }
 },
 "nbformat": 4,
 "nbformat_minor": 2
}
