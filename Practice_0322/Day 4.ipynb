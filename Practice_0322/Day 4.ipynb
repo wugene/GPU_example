{
 "cells": [
  {
   "cell_type": "code",
   "execution_count": 1,
   "metadata": {
    "collapsed": true
   },
   "outputs": [],
   "source": [
    "import numpy as np\n",
    "import pandas as pd\n",
    "from pandas import Series, DataFrame\n",
    "\n",
    "from sklearn.model_selection import train_test_split\n",
    "from sklearn.preprocessing import StandardScaler\n",
    "\n",
    "%matplotlib inline"
   ]
  },
  {
   "cell_type": "markdown",
   "metadata": {},
   "source": [
    "# 다층 퍼셉트론"
   ]
  },
  {
   "cell_type": "code",
   "execution_count": 2,
   "metadata": {
    "collapsed": true
   },
   "outputs": [],
   "source": [
    "def 로직게이트생성(w, b):\n",
    "    def logic_gate(x1, x2):\n",
    "        x = np.array([x1, x2])\n",
    "        z = np.sum(w*x) + b\n",
    "        y = 1 if z > 0 else 0\n",
    "        return y\n",
    "    return logic_gate"
   ]
  },
  {
   "cell_type": "code",
   "execution_count": 3,
   "metadata": {
    "collapsed": true
   },
   "outputs": [],
   "source": [
    "def test(logic):\n",
    "    for x1, x2 in [(0, 0), (0, 1), (1, 0), (1, 1)]:\n",
    "        y = logic(x1, x2)\n",
    "        print(x1, x2, '|', y)"
   ]
  },
  {
   "cell_type": "code",
   "execution_count": 4,
   "metadata": {
    "collapsed": true
   },
   "outputs": [],
   "source": [
    "AND = 로직게이트생성(np.array([0.5, 0.5]), -0.7)"
   ]
  },
  {
   "cell_type": "code",
   "execution_count": 5,
   "metadata": {},
   "outputs": [
    {
     "name": "stdout",
     "output_type": "stream",
     "text": [
      "0 0 | 0\n",
      "0 1 | 0\n",
      "1 0 | 0\n",
      "1 1 | 1\n"
     ]
    }
   ],
   "source": [
    "test(AND)"
   ]
  },
  {
   "cell_type": "code",
   "execution_count": 6,
   "metadata": {
    "collapsed": true
   },
   "outputs": [],
   "source": [
    "NAND = 로직게이트생성(np.array([-0.5, -0.5]), 0.7)"
   ]
  },
  {
   "cell_type": "code",
   "execution_count": 7,
   "metadata": {},
   "outputs": [
    {
     "name": "stdout",
     "output_type": "stream",
     "text": [
      "0 0 | 1\n",
      "0 1 | 1\n",
      "1 0 | 1\n",
      "1 1 | 0\n"
     ]
    }
   ],
   "source": [
    "test(NAND)"
   ]
  },
  {
   "cell_type": "code",
   "execution_count": 8,
   "metadata": {
    "collapsed": true
   },
   "outputs": [],
   "source": [
    "OR = 로직게이트생성(np.array([0.5, 0.5]), -0.2)"
   ]
  },
  {
   "cell_type": "code",
   "execution_count": 9,
   "metadata": {},
   "outputs": [
    {
     "name": "stdout",
     "output_type": "stream",
     "text": [
      "0 0 | 0\n",
      "0 1 | 1\n",
      "1 0 | 1\n",
      "1 1 | 1\n"
     ]
    }
   ],
   "source": [
    "test(OR)"
   ]
  },
  {
   "cell_type": "markdown",
   "metadata": {},
   "source": [
    "다층 퍼셉트론으로 XOR 문제 해결하기"
   ]
  },
  {
   "cell_type": "code",
   "execution_count": 10,
   "metadata": {
    "collapsed": true
   },
   "outputs": [],
   "source": [
    "def XOR(x1, x2):\n",
    "    s1 = NAND(x1, x2)\n",
    "    s2 = OR(x1, x2)\n",
    "    y = AND(s1, s2)\n",
    "    return y"
   ]
  },
  {
   "cell_type": "code",
   "execution_count": 11,
   "metadata": {},
   "outputs": [
    {
     "name": "stdout",
     "output_type": "stream",
     "text": [
      "0 0 | 0\n",
      "0 1 | 1\n",
      "1 0 | 1\n",
      "1 1 | 0\n"
     ]
    }
   ],
   "source": [
    "test(XOR)"
   ]
  },
  {
   "cell_type": "markdown",
   "metadata": {},
   "source": [
    "# 인공 신경망"
   ]
  },
  {
   "cell_type": "code",
   "execution_count": 12,
   "metadata": {
    "collapsed": true
   },
   "outputs": [],
   "source": [
    "def step(x):\n",
    "    y = np.where(x > 0, 1, -1)\n",
    "    return y"
   ]
  },
  {
   "cell_type": "code",
   "execution_count": 13,
   "metadata": {
    "collapsed": true
   },
   "outputs": [],
   "source": [
    "x = np.arange(-5., 5., 0.1)"
   ]
  },
  {
   "cell_type": "code",
   "execution_count": 14,
   "metadata": {
    "collapsed": true
   },
   "outputs": [],
   "source": [
    "y = step(x)"
   ]
  },
  {
   "cell_type": "code",
   "execution_count": 15,
   "metadata": {},
   "outputs": [
    {
     "data": {
      "text/plain": [
       "<matplotlib.axes._subplots.AxesSubplot at 0x7f91339ce6a0>"
      ]
     },
     "execution_count": 15,
     "metadata": {},
     "output_type": "execute_result"
    },
    {
     "data": {
      "image/png": "[encoded data removed]",
      "text/plain": [
       "<matplotlib.figure.Figure at 0x7f915df3fb70>"
      ]
     },
     "metadata": {},
     "output_type": "display_data"
    }
   ],
   "source": [
    "Series(y, index=x).plot()"
   ]
  },
  {
   "cell_type": "code",
   "execution_count": 16,
   "metadata": {
    "collapsed": true
   },
   "outputs": [],
   "source": [
    "def sigmoid(x):\n",
    "    return 1 / (1+np.exp(-x))"
   ]
  },
  {
   "cell_type": "code",
   "execution_count": 17,
   "metadata": {
    "collapsed": true
   },
   "outputs": [],
   "source": [
    "y = sigmoid(x)"
   ]
  },
  {
   "cell_type": "code",
   "execution_count": 18,
   "metadata": {},
   "outputs": [
    {
     "data": {
      "text/plain": [
       "<matplotlib.axes._subplots.AxesSubplot at 0x7f912bb705f8>"
      ]
     },
     "execution_count": 18,
     "metadata": {},
     "output_type": "execute_result"
    },
    {
     "data": {
      "image/png": "[encoded data removed]",
      "text/plain": [
       "<matplotlib.figure.Figure at 0x7f912bb686d8>"
      ]
     },
     "metadata": {},
     "output_type": "display_data"
    }
   ],
   "source": [
    "Series(y, index=x).plot()"
   ]
  },
  {
   "cell_type": "code",
   "execution_count": 19,
   "metadata": {
    "collapsed": true
   },
   "outputs": [],
   "source": [
    "def ReLU(x):\n",
    "    return np.maximum(0, x)"
   ]
  },
  {
   "cell_type": "code",
   "execution_count": 20,
   "metadata": {
    "collapsed": true
   },
   "outputs": [],
   "source": [
    "y = ReLU(x)"
   ]
  },
  {
   "cell_type": "code",
   "execution_count": 21,
   "metadata": {},
   "outputs": [
    {
     "data": {
      "text/plain": [
       "<matplotlib.axes._subplots.AxesSubplot at 0x7f912ba964e0>"
      ]
     },
     "execution_count": 21,
     "metadata": {},
     "output_type": "execute_result"
    },
    {
     "data": {
      "image/png": "[encoded data removed]",
      "text/plain": [
       "<matplotlib.figure.Figure at 0x7f912bb68b38>"
      ]
     },
     "metadata": {},
     "output_type": "display_data"
    }
   ],
   "source": [
    "Series(y, index=x).plot()"
   ]
  },
  {
   "cell_type": "markdown",
   "metadata": {},
   "source": [
    "신경망 순전파"
   ]
  },
  {
   "cell_type": "code",
   "execution_count": 22,
   "metadata": {
    "collapsed": true
   },
   "outputs": [],
   "source": [
    "x = np.array([1.0, 0.5])"
   ]
  },
  {
   "cell_type": "markdown",
   "metadata": {},
   "source": [
    "1층 "
   ]
  },
  {
   "cell_type": "code",
   "execution_count": 23,
   "metadata": {
    "collapsed": true
   },
   "outputs": [],
   "source": [
    "W1 = np.array([[0.1, 0.3, 0.5], [0.2, 0.4, 0.6]])\n",
    "b1 = np.array([0.1, 0.2, 0.3])"
   ]
  },
  {
   "cell_type": "code",
   "execution_count": 24,
   "metadata": {},
   "outputs": [
    {
     "data": {
      "text/plain": [
       "(2,)"
      ]
     },
     "execution_count": 24,
     "metadata": {},
     "output_type": "execute_result"
    }
   ],
   "source": [
    "x.shape"
   ]
  },
  {
   "cell_type": "code",
   "execution_count": 25,
   "metadata": {
    "collapsed": true
   },
   "outputs": [],
   "source": [
    "z1 = np.dot(x, W1) + b1"
   ]
  },
  {
   "cell_type": "code",
   "execution_count": 26,
   "metadata": {},
   "outputs": [
    {
     "data": {
      "text/plain": [
       "array([ 0.3,  0.7,  1.1])"
      ]
     },
     "execution_count": 26,
     "metadata": {},
     "output_type": "execute_result"
    }
   ],
   "source": [
    "z1"
   ]
  },
  {
   "cell_type": "code",
   "execution_count": 27,
   "metadata": {
    "collapsed": true
   },
   "outputs": [],
   "source": [
    "a1 = sigmoid(z1)"
   ]
  },
  {
   "cell_type": "code",
   "execution_count": 28,
   "metadata": {},
   "outputs": [
    {
     "data": {
      "text/plain": [
       "array([ 0.57444252,  0.66818777,  0.75026011])"
      ]
     },
     "execution_count": 28,
     "metadata": {},
     "output_type": "execute_result"
    }
   ],
   "source": [
    "a1"
   ]
  },
  {
   "cell_type": "markdown",
   "metadata": {},
   "source": [
    "2층"
   ]
  },
  {
   "cell_type": "code",
   "execution_count": 29,
   "metadata": {
    "collapsed": true
   },
   "outputs": [],
   "source": [
    "W2 = np.array([[0.1, 0.4], [0.2, 0.5], [0.3, 0.6]])\n",
    "b2 = np.array([0.1, 0.2])"
   ]
  },
  {
   "cell_type": "code",
   "execution_count": 30,
   "metadata": {
    "collapsed": true
   },
   "outputs": [],
   "source": [
    "z2 = np.dot(a1, W2) + b2"
   ]
  },
  {
   "cell_type": "code",
   "execution_count": 31,
   "metadata": {},
   "outputs": [
    {
     "data": {
      "text/plain": [
       "(2,)"
      ]
     },
     "execution_count": 31,
     "metadata": {},
     "output_type": "execute_result"
    }
   ],
   "source": [
    "z2.shape"
   ]
  },
  {
   "cell_type": "code",
   "execution_count": 32,
   "metadata": {
    "collapsed": true
   },
   "outputs": [],
   "source": [
    "a2 = sigmoid(z2)"
   ]
  },
  {
   "cell_type": "code",
   "execution_count": 33,
   "metadata": {},
   "outputs": [
    {
     "data": {
      "text/plain": [
       "(2,)"
      ]
     },
     "execution_count": 33,
     "metadata": {},
     "output_type": "execute_result"
    }
   ],
   "source": [
    "a2.shape"
   ]
  },
  {
   "cell_type": "markdown",
   "metadata": {},
   "source": [
    "출력"
   ]
  },
  {
   "cell_type": "code",
   "execution_count": 34,
   "metadata": {
    "collapsed": true
   },
   "outputs": [],
   "source": [
    "W3 = np.array([0.1, 0.3])\n",
    "b3 = 0.1"
   ]
  },
  {
   "cell_type": "code",
   "execution_count": 35,
   "metadata": {
    "collapsed": true
   },
   "outputs": [],
   "source": [
    "z3 = np.dot(a2, W3) + b3"
   ]
  },
  {
   "cell_type": "code",
   "execution_count": 36,
   "metadata": {
    "collapsed": true
   },
   "outputs": [],
   "source": [
    "a3 = sigmoid(z3)"
   ]
  },
  {
   "cell_type": "code",
   "execution_count": 37,
   "metadata": {
    "collapsed": true
   },
   "outputs": [],
   "source": [
    "y = a3"
   ]
  },
  {
   "cell_type": "code",
   "execution_count": 38,
   "metadata": {},
   "outputs": [
    {
     "data": {
      "text/plain": [
       "0.59722796177405213"
      ]
     },
     "execution_count": 38,
     "metadata": {},
     "output_type": "execute_result"
    }
   ],
   "source": [
    "y"
   ]
  },
  {
   "cell_type": "code",
   "execution_count": 39,
   "metadata": {},
   "outputs": [
    {
     "data": {
      "text/plain": [
       "1"
      ]
     },
     "execution_count": 39,
     "metadata": {},
     "output_type": "execute_result"
    }
   ],
   "source": [
    "1 if y > 0.5 else 0"
   ]
  },
  {
   "cell_type": "markdown",
   "metadata": {},
   "source": [
    "## 손실함수"
   ]
  },
  {
   "cell_type": "code",
   "execution_count": 40,
   "metadata": {
    "collapsed": true
   },
   "outputs": [],
   "source": [
    "def 평균제곱오차(y, y_pred):\n",
    "    return np.mean((y-y_pred)**2)"
   ]
  },
  {
   "cell_type": "code",
   "execution_count": 41,
   "metadata": {
    "collapsed": true
   },
   "outputs": [],
   "source": [
    "y = np.array([0, 0, 1, 0, 0, 0, 0, 0, 0, 0])"
   ]
  },
  {
   "cell_type": "code",
   "execution_count": 42,
   "metadata": {},
   "outputs": [
    {
     "data": {
      "text/plain": [
       "10"
      ]
     },
     "execution_count": 42,
     "metadata": {},
     "output_type": "execute_result"
    }
   ],
   "source": [
    "len(y)"
   ]
  },
  {
   "cell_type": "code",
   "execution_count": 43,
   "metadata": {
    "collapsed": true
   },
   "outputs": [],
   "source": [
    "y_pred1 = np.array([\n",
    "    0.1, 0.05, 0.6, 0.0, 0.05, \n",
    "    0.1, 0.0, 0.1, 0.0, 0.0])"
   ]
  },
  {
   "cell_type": "code",
   "execution_count": 44,
   "metadata": {},
   "outputs": [
    {
     "data": {
      "text/plain": [
       "10"
      ]
     },
     "execution_count": 44,
     "metadata": {},
     "output_type": "execute_result"
    }
   ],
   "source": [
    "len(y_pred1)"
   ]
  },
  {
   "cell_type": "code",
   "execution_count": 45,
   "metadata": {},
   "outputs": [
    {
     "data": {
      "text/plain": [
       "1.0"
      ]
     },
     "execution_count": 45,
     "metadata": {},
     "output_type": "execute_result"
    }
   ],
   "source": [
    "y_pred1.sum()"
   ]
  },
  {
   "cell_type": "code",
   "execution_count": 46,
   "metadata": {
    "collapsed": true
   },
   "outputs": [],
   "source": [
    "y_pred2 = np.array([\n",
    "    0.1, 0.05, 0.1, 0.0, 0.05,\n",
    "    0.1, 0.0, 0.6, 0.0, 0.0\n",
    "])"
   ]
  },
  {
   "cell_type": "code",
   "execution_count": 47,
   "metadata": {},
   "outputs": [
    {
     "data": {
      "text/plain": [
       "10"
      ]
     },
     "execution_count": 47,
     "metadata": {},
     "output_type": "execute_result"
    }
   ],
   "source": [
    "len(y_pred2)"
   ]
  },
  {
   "cell_type": "code",
   "execution_count": 48,
   "metadata": {},
   "outputs": [
    {
     "data": {
      "text/plain": [
       "1.0"
      ]
     },
     "execution_count": 48,
     "metadata": {},
     "output_type": "execute_result"
    }
   ],
   "source": [
    "y_pred2.sum()"
   ]
  },
  {
   "cell_type": "code",
   "execution_count": 49,
   "metadata": {
    "collapsed": true
   },
   "outputs": [],
   "source": [
    "loss = 평균제곱오차"
   ]
  },
  {
   "cell_type": "code",
   "execution_count": 50,
   "metadata": {
    "scrolled": true
   },
   "outputs": [
    {
     "data": {
      "text/plain": [
       "0.019500000000000007"
      ]
     },
     "execution_count": 50,
     "metadata": {},
     "output_type": "execute_result"
    }
   ],
   "source": [
    "loss(y, y_pred1)"
   ]
  },
  {
   "cell_type": "code",
   "execution_count": 51,
   "metadata": {},
   "outputs": [
    {
     "data": {
      "text/plain": [
       "0.11950000000000001"
      ]
     },
     "execution_count": 51,
     "metadata": {},
     "output_type": "execute_result"
    }
   ],
   "source": [
    "loss(y, y_pred2)"
   ]
  },
  {
   "cell_type": "code",
   "execution_count": 52,
   "metadata": {
    "collapsed": true
   },
   "outputs": [],
   "source": [
    "def cross_entropy_error(y, y_pred):\n",
    "    delta = 1e-7 # log(0) --> 무한대 방지\n",
    "    return -np.sum(y*np.log(y_pred+delta))"
   ]
  },
  {
   "cell_type": "code",
   "execution_count": 53,
   "metadata": {
    "collapsed": true
   },
   "outputs": [],
   "source": [
    "loss = cross_entropy_error"
   ]
  },
  {
   "cell_type": "code",
   "execution_count": 54,
   "metadata": {},
   "outputs": [
    {
     "data": {
      "text/plain": [
       "0.51082545709933802"
      ]
     },
     "execution_count": 54,
     "metadata": {},
     "output_type": "execute_result"
    }
   ],
   "source": [
    "loss(y, y_pred1)"
   ]
  },
  {
   "cell_type": "code",
   "execution_count": 55,
   "metadata": {},
   "outputs": [
    {
     "data": {
      "text/plain": [
       "2.3025840929945458"
      ]
     },
     "execution_count": 55,
     "metadata": {},
     "output_type": "execute_result"
    }
   ],
   "source": [
    "loss(y, y_pred2)"
   ]
  },
  {
   "cell_type": "code",
   "execution_count": 56,
   "metadata": {
    "collapsed": true
   },
   "outputs": [],
   "source": [
    "iris = pd.read_csv('data/iris.data', header=None)"
   ]
  },
  {
   "cell_type": "code",
   "execution_count": 57,
   "metadata": {
    "collapsed": true
   },
   "outputs": [],
   "source": [
    "y = iris[4]\n",
    "X = iris.iloc[:, 0:4]"
   ]
  },
  {
   "cell_type": "code",
   "execution_count": 58,
   "metadata": {
    "collapsed": true
   },
   "outputs": [],
   "source": [
    "X_train, X_test, y_train, y_test = train_test_split(\n",
    "    X, y, test_size=0.3)"
   ]
  },
  {
   "cell_type": "code",
   "execution_count": 59,
   "metadata": {
    "collapsed": true
   },
   "outputs": [],
   "source": [
    "from sklearn.linear_model import LogisticRegression"
   ]
  },
  {
   "cell_type": "code",
   "execution_count": 60,
   "metadata": {
    "collapsed": true
   },
   "outputs": [],
   "source": [
    "model = LogisticRegression()"
   ]
  },
  {
   "cell_type": "code",
   "execution_count": 61,
   "metadata": {},
   "outputs": [
    {
     "data": {
      "text/plain": [
       "LogisticRegression(C=1.0, class_weight=None, dual=False, fit_intercept=True,\n",
       "          intercept_scaling=1, max_iter=100, multi_class='ovr', n_jobs=1,\n",
       "          penalty='l2', random_state=None, solver='liblinear', tol=0.0001,\n",
       "          verbose=0, warm_start=False)"
      ]
     },
     "execution_count": 61,
     "metadata": {},
     "output_type": "execute_result"
    }
   ],
   "source": [
    "model.fit(X_train, y_train)"
   ]
  },
  {
   "cell_type": "code",
   "execution_count": 62,
   "metadata": {},
   "outputs": [
    {
     "data": {
      "text/plain": [
       "array([[ 0.37545738,  1.38224813, -2.11110513, -0.95308905],\n",
       "       [ 0.36951152, -1.37469127,  0.44182461, -1.10115604],\n",
       "       [-1.46475419, -1.3875627 ,  2.1913994 ,  2.08448914]])"
      ]
     },
     "execution_count": 62,
     "metadata": {},
     "output_type": "execute_result"
    }
   ],
   "source": [
    "model.coef_"
   ]
  },
  {
   "cell_type": "code",
   "execution_count": 63,
   "metadata": {},
   "outputs": [
    {
     "data": {
      "text/plain": [
       "0.97777777777777775"
      ]
     },
     "execution_count": 63,
     "metadata": {},
     "output_type": "execute_result"
    }
   ],
   "source": [
    "model.score(X_test, y_test)"
   ]
  },
  {
   "cell_type": "markdown",
   "metadata": {},
   "source": [
    "짠지를 담궈야 합니다..."
   ]
  },
  {
   "cell_type": "code",
   "execution_count": 64,
   "metadata": {
    "collapsed": true
   },
   "outputs": [],
   "source": [
    "import pickle"
   ]
  },
  {
   "cell_type": "code",
   "execution_count": 65,
   "metadata": {
    "collapsed": true
   },
   "outputs": [],
   "source": [
    "with open('model.pkl', 'wb') as file:\n",
    "    pickle.dump(model, file)"
   ]
  },
  {
   "cell_type": "code",
   "execution_count": 66,
   "metadata": {
    "collapsed": true
   },
   "outputs": [],
   "source": [
    "del model"
   ]
  },
  {
   "cell_type": "code",
   "execution_count": 67,
   "metadata": {
    "collapsed": true
   },
   "outputs": [],
   "source": [
    "with open('model.pkl', 'rb') as file:\n",
    "    model = pickle.load(file)"
   ]
  },
  {
   "cell_type": "code",
   "execution_count": 68,
   "metadata": {},
   "outputs": [
    {
     "data": {
      "text/plain": [
       "0.97777777777777775"
      ]
     },
     "execution_count": 68,
     "metadata": {},
     "output_type": "execute_result"
    }
   ],
   "source": [
    "model.score(X_test, y_test)"
   ]
  },
  {
   "cell_type": "code",
   "execution_count": 69,
   "metadata": {},
   "outputs": [
    {
     "data": {
      "text/plain": [
       "(45, 4)"
      ]
     },
     "execution_count": 69,
     "metadata": {},
     "output_type": "execute_result"
    }
   ],
   "source": [
    "X_test.shape"
   ]
  },
  {
   "cell_type": "code",
   "execution_count": 70,
   "metadata": {
    "scrolled": true
   },
   "outputs": [
    {
     "data": {
      "text/plain": [
       "0    6.8\n",
       "1    3.0\n",
       "2    5.5\n",
       "3    2.1\n",
       "Name: 112, dtype: float64"
      ]
     },
     "execution_count": 70,
     "metadata": {},
     "output_type": "execute_result"
    }
   ],
   "source": [
    "X_test.iloc[0]"
   ]
  },
  {
   "cell_type": "code",
   "execution_count": 71,
   "metadata": {},
   "outputs": [
    {
     "ename": "ModuleNotFoundError",
     "evalue": "No module named 'predict'",
     "output_type": "error",
     "traceback": [
      "\u001b[0;31m---------------------------------------------------------------------------\u001b[0m",
      "\u001b[0;31mModuleNotFoundError\u001b[0m                       Traceback (most recent call last)",
      "\u001b[0;32m<ipython-input-71-ff17154f7c04>\u001b[0m in \u001b[0;36m<module>\u001b[0;34m()\u001b[0m\n\u001b[0;32m----> 1\u001b[0;31m \u001b[0;32mimport\u001b[0m \u001b[0mpredict\u001b[0m \u001b[0;32mas\u001b[0m \u001b[0m예측\u001b[0m\u001b[0;34m\u001b[0m\u001b[0m\n\u001b[0m",
      "\u001b[0;31mModuleNotFoundError\u001b[0m: No module named 'predict'"
     ]
    }
   ],
   "source": [
    "import predict as 예측"
   ]
  },
  {
   "cell_type": "code",
   "execution_count": null,
   "metadata": {},
   "outputs": [],
   "source": [
    "예측.__file__"
   ]
  },
  {
   "cell_type": "code",
   "execution_count": null,
   "metadata": {},
   "outputs": [],
   "source": [
    "예측.__name__"
   ]
  },
  {
   "cell_type": "markdown",
   "metadata": {},
   "source": [
    "# TensorFlow"
   ]
  },
  {
   "cell_type": "code",
   "execution_count": 72,
   "metadata": {
    "collapsed": true
   },
   "outputs": [],
   "source": [
    "import tensorflow as tf"
   ]
  },
  {
   "cell_type": "markdown",
   "metadata": {},
   "source": [
    "손글씨 숫자 데이터"
   ]
  },
  {
   "cell_type": "code",
   "execution_count": 73,
   "metadata": {
    "collapsed": true
   },
   "outputs": [],
   "source": [
    "from tensorflow.examples.tutorials.mnist import input_data"
   ]
  },
  {
   "cell_type": "code",
   "execution_count": 74,
   "metadata": {},
   "outputs": [
    {
     "name": "stdout",
     "output_type": "stream",
     "text": [
      "Successfully downloaded train-images-idx3-ubyte.gz 9912422 bytes.\n",
      "Extracting mnist/train-images-idx3-ubyte.gz\n",
      "Successfully downloaded train-labels-idx1-ubyte.gz 28881 bytes.\n",
      "Extracting mnist/train-labels-idx1-ubyte.gz\n",
      "Successfully downloaded t10k-images-idx3-ubyte.gz 1648877 bytes.\n",
      "Extracting mnist/t10k-images-idx3-ubyte.gz\n",
      "Successfully downloaded t10k-labels-idx1-ubyte.gz 4542 bytes.\n",
      "Extracting mnist/t10k-labels-idx1-ubyte.gz\n"
     ]
    }
   ],
   "source": [
    "mnist = input_data.read_data_sets('mnist/', one_hot=True)"
   ]
  },
  {
   "cell_type": "code",
   "execution_count": 75,
   "metadata": {
    "collapsed": true
   },
   "outputs": [],
   "source": [
    "x = mnist.train.images[0]"
   ]
  },
  {
   "cell_type": "code",
   "execution_count": 76,
   "metadata": {},
   "outputs": [
    {
     "data": {
      "text/plain": [
       "numpy.ndarray"
      ]
     },
     "execution_count": 76,
     "metadata": {},
     "output_type": "execute_result"
    }
   ],
   "source": [
    "type(x)"
   ]
  },
  {
   "cell_type": "code",
   "execution_count": 77,
   "metadata": {},
   "outputs": [
    {
     "data": {
      "text/plain": [
       "(784,)"
      ]
     },
     "execution_count": 77,
     "metadata": {},
     "output_type": "execute_result"
    }
   ],
   "source": [
    "x.shape"
   ]
  },
  {
   "cell_type": "code",
   "execution_count": 78,
   "metadata": {
    "collapsed": true
   },
   "outputs": [],
   "source": [
    "x = np.reshape(x, (28, 28))"
   ]
  },
  {
   "cell_type": "code",
   "execution_count": 79,
   "metadata": {},
   "outputs": [
    {
     "data": {
      "text/plain": [
       "(28, 28)"
      ]
     },
     "execution_count": 79,
     "metadata": {},
     "output_type": "execute_result"
    }
   ],
   "source": [
    "x.shape"
   ]
  },
  {
   "cell_type": "code",
   "execution_count": 80,
   "metadata": {
    "collapsed": true
   },
   "outputs": [],
   "source": [
    "from scipy.misc import imsave"
   ]
  },
  {
   "cell_type": "code",
   "execution_count": 81,
   "metadata": {
    "collapsed": true
   },
   "outputs": [],
   "source": [
    "imsave('mnist_sample.png', x)"
   ]
  },
  {
   "cell_type": "markdown",
   "metadata": {},
   "source": [
    "신경망 모델 구성"
   ]
  },
  {
   "cell_type": "code",
   "execution_count": 82,
   "metadata": {
    "collapsed": true
   },
   "outputs": [],
   "source": [
    "x = tf.placeholder(tf.float32, [None, 784])"
   ]
  },
  {
   "cell_type": "code",
   "execution_count": 83,
   "metadata": {
    "collapsed": true
   },
   "outputs": [],
   "source": [
    "W = tf.Variable(tf.zeros([784, 10]))\n",
    "b = tf.Variable(tf.zeros([10]))"
   ]
  },
  {
   "cell_type": "markdown",
   "metadata": {},
   "source": [
    "softmax는 다중분류의 출력값을 조절하는데 필수적입니다."
   ]
  },
  {
   "cell_type": "code",
   "execution_count": 84,
   "metadata": {
    "collapsed": true
   },
   "outputs": [],
   "source": [
    "def softmax(a):\n",
    "    c = np.max(a)\n",
    "    ea = np.exp(a-c)\n",
    "    return ea / np.sum(ea)"
   ]
  },
  {
   "cell_type": "code",
   "execution_count": 85,
   "metadata": {
    "collapsed": true
   },
   "outputs": [],
   "source": [
    "a = np.array([0.3, 2.9, 4.0])"
   ]
  },
  {
   "cell_type": "code",
   "execution_count": 86,
   "metadata": {},
   "outputs": [
    {
     "data": {
      "text/plain": [
       "7.1999999999999993"
      ]
     },
     "execution_count": 86,
     "metadata": {},
     "output_type": "execute_result"
    }
   ],
   "source": [
    "a.sum()"
   ]
  },
  {
   "cell_type": "code",
   "execution_count": 87,
   "metadata": {
    "collapsed": true
   },
   "outputs": [],
   "source": [
    "y = softmax(a)"
   ]
  },
  {
   "cell_type": "code",
   "execution_count": 88,
   "metadata": {},
   "outputs": [
    {
     "data": {
      "text/plain": [
       "array([ 0.01821127,  0.24519181,  0.73659691])"
      ]
     },
     "execution_count": 88,
     "metadata": {},
     "output_type": "execute_result"
    }
   ],
   "source": [
    "y"
   ]
  },
  {
   "cell_type": "code",
   "execution_count": 89,
   "metadata": {},
   "outputs": [
    {
     "data": {
      "text/plain": [
       "1.0"
      ]
     },
     "execution_count": 89,
     "metadata": {},
     "output_type": "execute_result"
    }
   ],
   "source": [
    "y.sum()"
   ]
  },
  {
   "cell_type": "markdown",
   "metadata": {},
   "source": [
    "예측값 y"
   ]
  },
  {
   "cell_type": "code",
   "execution_count": 90,
   "metadata": {
    "collapsed": true
   },
   "outputs": [],
   "source": [
    "y = tf.nn.softmax(tf.matmul(x, W)+b)"
   ]
  },
  {
   "cell_type": "markdown",
   "metadata": {},
   "source": [
    "정답 y"
   ]
  },
  {
   "cell_type": "code",
   "execution_count": 91,
   "metadata": {
    "collapsed": true
   },
   "outputs": [],
   "source": [
    "y_ = tf.placeholder(tf.float32, [None, 10])"
   ]
  },
  {
   "cell_type": "markdown",
   "metadata": {},
   "source": [
    "손실함수"
   ]
  },
  {
   "cell_type": "code",
   "execution_count": 92,
   "metadata": {
    "collapsed": true
   },
   "outputs": [],
   "source": [
    "cross_entropy = tf.reduce_mean(\n",
    "    -tf.reduce_sum(y_ * tf.log(y), reduction_indices=[1]))"
   ]
  },
  {
   "cell_type": "markdown",
   "metadata": {},
   "source": [
    "경사하강법 (Gradient Descent)로 손실함수 최소화"
   ]
  },
  {
   "cell_type": "code",
   "execution_count": 93,
   "metadata": {
    "collapsed": true
   },
   "outputs": [],
   "source": [
    "train_step = tf.train.GradientDescentOptimizer(0.5).minimize(cross_entropy)"
   ]
  },
  {
   "cell_type": "markdown",
   "metadata": {},
   "source": [
    "계산그래프 실행"
   ]
  },
  {
   "cell_type": "code",
   "execution_count": 94,
   "metadata": {
    "collapsed": true
   },
   "outputs": [],
   "source": [
    "세션 = tf.InteractiveSession()"
   ]
  },
  {
   "cell_type": "code",
   "execution_count": 95,
   "metadata": {
    "collapsed": true
   },
   "outputs": [],
   "source": [
    "tf.global_variables_initializer().run()"
   ]
  },
  {
   "cell_type": "markdown",
   "metadata": {},
   "source": [
    "1000번 훈련 수행"
   ]
  },
  {
   "cell_type": "code",
   "execution_count": 96,
   "metadata": {
    "collapsed": true
   },
   "outputs": [],
   "source": [
    "for _ in range(1000):\n",
    "    batch_xs, batch_ys = mnist.train.next_batch(100)\n",
    "    세션.run(train_step, feed_dict={x: batch_xs, y_: batch_ys})"
   ]
  },
  {
   "cell_type": "markdown",
   "metadata": {},
   "source": [
    "모델 평가"
   ]
  },
  {
   "cell_type": "code",
   "execution_count": 97,
   "metadata": {
    "collapsed": true
   },
   "outputs": [],
   "source": [
    "y_pred = tf.equal(tf.argmax(y, 1), tf.argmax(y_, 1))"
   ]
  },
  {
   "cell_type": "code",
   "execution_count": 98,
   "metadata": {
    "collapsed": true
   },
   "outputs": [],
   "source": [
    "정확도 = tf.reduce_mean(tf.cast(y_pred, tf.float32))"
   ]
  },
  {
   "cell_type": "code",
   "execution_count": 99,
   "metadata": {},
   "outputs": [
    {
     "name": "stdout",
     "output_type": "stream",
     "text": [
      "0.9172\n"
     ]
    }
   ],
   "source": [
    "print(세션.run(\n",
    "    정확도, \n",
    "    feed_dict={x: mnist.test.images, y_: mnist.test.labels}))"
   ]
  },
  {
   "cell_type": "markdown",
   "metadata": {},
   "source": [
    "# Keras\n",
    "\n",
    "numpy 또는 tensorflow로 인공 신경망을 직접 만드는 것은 꽤나 힘든 일입니다."
   ]
  },
  {
   "cell_type": "code",
   "execution_count": 101,
   "metadata": {},
   "outputs": [
    {
     "name": "stderr",
     "output_type": "stream",
     "text": [
      "Using TensorFlow backend.\n"
     ]
    }
   ],
   "source": [
    "import keras"
   ]
  },
  {
   "cell_type": "code",
   "execution_count": 102,
   "metadata": {
    "collapsed": true
   },
   "outputs": [],
   "source": [
    "from keras.datasets import mnist"
   ]
  },
  {
   "cell_type": "code",
   "execution_count": 103,
   "metadata": {},
   "outputs": [
    {
     "name": "stdout",
     "output_type": "stream",
     "text": [
      "Downloading data from https://s3.amazonaws.com/img-datasets/mnist.npz\n",
      "11493376/11490434 [==============================] - 115s 10us/step\n"
     ]
    }
   ],
   "source": [
    "(X_train, y_train), (X_test, y_test) = mnist.load_data()"
   ]
  },
  {
   "cell_type": "code",
   "execution_count": 104,
   "metadata": {},
   "outputs": [
    {
     "data": {
      "text/plain": [
       "(60000, 28, 28)"
      ]
     },
     "execution_count": 104,
     "metadata": {},
     "output_type": "execute_result"
    }
   ],
   "source": [
    "X_train.shape"
   ]
  },
  {
   "cell_type": "code",
   "execution_count": 105,
   "metadata": {
    "collapsed": true
   },
   "outputs": [],
   "source": [
    "X_train = X_train.reshape(60000, 784)"
   ]
  },
  {
   "cell_type": "code",
   "execution_count": 106,
   "metadata": {
    "collapsed": true
   },
   "outputs": [],
   "source": [
    "X_test = X_test.reshape(10000, 28*28)"
   ]
  },
  {
   "cell_type": "code",
   "execution_count": 107,
   "metadata": {},
   "outputs": [
    {
     "data": {
      "text/plain": [
       "(10000, 784)"
      ]
     },
     "execution_count": 107,
     "metadata": {},
     "output_type": "execute_result"
    }
   ],
   "source": [
    "X_test.shape"
   ]
  },
  {
   "cell_type": "markdown",
   "metadata": {},
   "source": [
    "자료형이 중요합니다."
   ]
  },
  {
   "cell_type": "code",
   "execution_count": 108,
   "metadata": {},
   "outputs": [
    {
     "data": {
      "text/plain": [
       "dtype('uint8')"
      ]
     },
     "execution_count": 108,
     "metadata": {},
     "output_type": "execute_result"
    }
   ],
   "source": [
    "X_train.dtype"
   ]
  },
  {
   "cell_type": "code",
   "execution_count": 109,
   "metadata": {
    "collapsed": true
   },
   "outputs": [],
   "source": [
    "X_train = X_train.astype('float32')"
   ]
  },
  {
   "cell_type": "code",
   "execution_count": 110,
   "metadata": {
    "collapsed": true
   },
   "outputs": [],
   "source": [
    "X_test = X_test.astype('float32')"
   ]
  },
  {
   "cell_type": "markdown",
   "metadata": {},
   "source": [
    "데이터 전처리"
   ]
  },
  {
   "cell_type": "code",
   "execution_count": 111,
   "metadata": {
    "collapsed": true
   },
   "outputs": [],
   "source": [
    "X_train /= 255\n",
    "X_test /= 255"
   ]
  },
  {
   "cell_type": "code",
   "execution_count": 112,
   "metadata": {},
   "outputs": [
    {
     "data": {
      "text/plain": [
       "1.0"
      ]
     },
     "execution_count": 112,
     "metadata": {},
     "output_type": "execute_result"
    }
   ],
   "source": [
    "X_train.max()"
   ]
  },
  {
   "cell_type": "code",
   "execution_count": 113,
   "metadata": {},
   "outputs": [
    {
     "data": {
      "text/plain": [
       "0.0"
      ]
     },
     "execution_count": 113,
     "metadata": {},
     "output_type": "execute_result"
    }
   ],
   "source": [
    "X_train.min()"
   ]
  },
  {
   "cell_type": "code",
   "execution_count": 114,
   "metadata": {},
   "outputs": [
    {
     "data": {
      "text/plain": [
       "array([5, 0, 4, 1, 9, 2, 1, 3, 1, 4], dtype=uint8)"
      ]
     },
     "execution_count": 114,
     "metadata": {},
     "output_type": "execute_result"
    }
   ],
   "source": [
    "y_train[:10]"
   ]
  },
  {
   "cell_type": "markdown",
   "metadata": {},
   "source": [
    "One-Hot Encoding"
   ]
  },
  {
   "cell_type": "code",
   "execution_count": 115,
   "metadata": {
    "collapsed": true
   },
   "outputs": [],
   "source": [
    "from keras.utils import np_utils"
   ]
  },
  {
   "cell_type": "code",
   "execution_count": 116,
   "metadata": {
    "collapsed": true
   },
   "outputs": [],
   "source": [
    "Y_train = np_utils.to_categorical(y_train)"
   ]
  },
  {
   "cell_type": "code",
   "execution_count": 117,
   "metadata": {
    "collapsed": true
   },
   "outputs": [],
   "source": [
    "Y_test = np_utils.to_categorical(y_test)"
   ]
  },
  {
   "cell_type": "markdown",
   "metadata": {},
   "source": [
    "모델 만들기"
   ]
  },
  {
   "cell_type": "code",
   "execution_count": 118,
   "metadata": {
    "collapsed": true
   },
   "outputs": [],
   "source": [
    "from keras.models import Sequential"
   ]
  },
  {
   "cell_type": "code",
   "execution_count": 119,
   "metadata": {
    "collapsed": true
   },
   "outputs": [],
   "source": [
    "model = Sequential()"
   ]
  },
  {
   "cell_type": "markdown",
   "metadata": {},
   "source": [
    "층 추가"
   ]
  },
  {
   "cell_type": "code",
   "execution_count": 120,
   "metadata": {
    "collapsed": true
   },
   "outputs": [],
   "source": [
    "from keras.layers.core import Dense, Activation"
   ]
  },
  {
   "cell_type": "code",
   "execution_count": 121,
   "metadata": {
    "collapsed": true
   },
   "outputs": [],
   "source": [
    "layer1 = Dense(10, input_shape=(28*28,))"
   ]
  },
  {
   "cell_type": "code",
   "execution_count": 122,
   "metadata": {
    "collapsed": true
   },
   "outputs": [],
   "source": [
    "model.add(layer1)"
   ]
  },
  {
   "cell_type": "code",
   "execution_count": 123,
   "metadata": {
    "collapsed": true
   },
   "outputs": [],
   "source": [
    "model.add(Activation('softmax'))"
   ]
  },
  {
   "cell_type": "markdown",
   "metadata": {},
   "source": [
    "모델 컴파일"
   ]
  },
  {
   "cell_type": "code",
   "execution_count": 124,
   "metadata": {
    "collapsed": true
   },
   "outputs": [],
   "source": [
    "model.compile(\n",
    "    loss='categorical_crossentropy',\n",
    "    optimizer='sgd',\n",
    "    metrics=['accuracy']\n",
    ")"
   ]
  },
  {
   "cell_type": "markdown",
   "metadata": {},
   "source": [
    "훈련"
   ]
  },
  {
   "cell_type": "code",
   "execution_count": 125,
   "metadata": {},
   "outputs": [
    {
     "name": "stdout",
     "output_type": "stream",
     "text": [
      "Train on 48000 samples, validate on 12000 samples\n",
      "Epoch 1/200\n",
      "48000/48000 [==============================] - ETA: 0s - loss: 1.3811 - acc: 0.663 - 1s 29us/step - loss: 1.3741 - acc: 0.6655 - val_loss: 0.8898 - val_acc: 0.8256\n",
      "Epoch 2/200\n",
      "48000/48000 [==============================] - 1s 30us/step - loss: 0.7928 - acc: 0.8271 - val_loss: 0.6545 - val_acc: 0.8587\n",
      "Epoch 3/200\n",
      "48000/48000 [==============================] - 1s 29us/step - loss: 0.6430 - acc: 0.8501 - val_loss: 0.5593 - val_acc: 0.8714\n",
      "Epoch 4/200\n",
      "48000/48000 [==============================] - 1s 29us/step - loss: 0.5706 - acc: 0.8610 - val_loss: 0.5068 - val_acc: 0.8797\n",
      "Epoch 5/200\n",
      "48000/48000 [==============================] - 1s 28us/step - loss: 0.5263 - acc: 0.8680 - val_loss: 0.4734 - val_acc: 0.8843\n",
      "Epoch 6/200\n",
      "48000/48000 [==============================] - 1s 28us/step - loss: 0.4961 - acc: 0.8731 - val_loss: 0.4490 - val_acc: 0.8888\n",
      "Epoch 7/200\n",
      "48000/48000 [==============================] - 1s 30us/step - loss: 0.4737 - acc: 0.8767 - val_loss: 0.4309 - val_acc: 0.8911\n",
      "Epoch 8/200\n",
      "48000/48000 [==============================] - 1s 29us/step - loss: 0.4564 - acc: 0.8804 - val_loss: 0.4169 - val_acc: 0.8934\n",
      "Epoch 9/200\n",
      "48000/48000 [==============================] - 1s 29us/step - loss: 0.4424 - acc: 0.8831 - val_loss: 0.4055 - val_acc: 0.8952\n",
      "Epoch 10/200\n",
      "48000/48000 [==============================] - 1s 29us/step - loss: 0.4309 - acc: 0.8853 - val_loss: 0.3959 - val_acc: 0.8967\n",
      "Epoch 11/200\n",
      "48000/48000 [==============================] - 1s 29us/step - loss: 0.4211 - acc: 0.8873 - val_loss: 0.3879 - val_acc: 0.8990\n",
      "Epoch 12/200\n",
      "48000/48000 [==============================] - 1s 28us/step - loss: 0.4127 - acc: 0.8892 - val_loss: 0.3810 - val_acc: 0.9004\n",
      "Epoch 13/200\n",
      "48000/48000 [==============================] - 1s 28us/step - loss: 0.4054 - acc: 0.8909 - val_loss: 0.3748 - val_acc: 0.9015\n",
      "Epoch 14/200\n",
      "48000/48000 [==============================] - 1s 28us/step - loss: 0.3989 - acc: 0.8923 - val_loss: 0.3699 - val_acc: 0.9020\n",
      "Epoch 15/200\n",
      "48000/48000 [==============================] - 1s 28us/step - loss: 0.3932 - acc: 0.8933 - val_loss: 0.3651 - val_acc: 0.9038\n",
      "Epoch 16/200\n",
      "48000/48000 [==============================] - 1s 27us/step - loss: 0.3880 - acc: 0.8947 - val_loss: 0.3608 - val_acc: 0.9029\n",
      "Epoch 17/200\n",
      "48000/48000 [==============================] - 1s 28us/step - loss: 0.3833 - acc: 0.8956 - val_loss: 0.3569 - val_acc: 0.9035\n",
      "Epoch 18/200\n",
      "48000/48000 [==============================] - 1s 28us/step - loss: 0.3790 - acc: 0.8965 - val_loss: 0.3532 - val_acc: 0.9048\n",
      "Epoch 19/200\n",
      "48000/48000 [==============================] - 1s 28us/step - loss: 0.3751 - acc: 0.8973 - val_loss: 0.3502 - val_acc: 0.9056\n",
      "Epoch 20/200\n",
      "48000/48000 [==============================] - 1s 28us/step - loss: 0.3716 - acc: 0.8983 - val_loss: 0.3472 - val_acc: 0.9057\n",
      "Epoch 21/200\n",
      "48000/48000 [==============================] - 1s 28us/step - loss: 0.3682 - acc: 0.8989 - val_loss: 0.3445 - val_acc: 0.9064\n",
      "Epoch 22/200\n",
      "48000/48000 [==============================] - 1s 28us/step - loss: 0.3652 - acc: 0.8991 - val_loss: 0.3420 - val_acc: 0.9064\n",
      "Epoch 23/200\n",
      "48000/48000 [==============================] - 1s 28us/step - loss: 0.3623 - acc: 0.9002 - val_loss: 0.3395 - val_acc: 0.9073\n",
      "Epoch 24/200\n",
      "48000/48000 [==============================] - 1s 28us/step - loss: 0.3596 - acc: 0.9003 - val_loss: 0.3374 - val_acc: 0.9088\n",
      "Epoch 25/200\n",
      "48000/48000 [==============================] - 1s 28us/step - loss: 0.3571 - acc: 0.9013 - val_loss: 0.3354 - val_acc: 0.9083\n",
      "Epoch 26/200\n",
      "48000/48000 [==============================] - 1s 29us/step - loss: 0.3547 - acc: 0.9017 - val_loss: 0.3335 - val_acc: 0.9089\n",
      "Epoch 27/200\n",
      "48000/48000 [==============================] - 1s 28us/step - loss: 0.3524 - acc: 0.9024 - val_loss: 0.3318 - val_acc: 0.9091\n",
      "Epoch 28/200\n",
      "48000/48000 [==============================] - 1s 28us/step - loss: 0.3503 - acc: 0.9027 - val_loss: 0.3299 - val_acc: 0.9097\n",
      "Epoch 29/200\n",
      "48000/48000 [==============================] - 1s 26us/step - loss: 0.3483 - acc: 0.9033 - val_loss: 0.3283 - val_acc: 0.9099\n",
      "Epoch 30/200\n",
      "48000/48000 [==============================] - 1s 28us/step - loss: 0.3464 - acc: 0.9038 - val_loss: 0.3268 - val_acc: 0.9105\n",
      "Epoch 31/200\n",
      "48000/48000 [==============================] - 1s 28us/step - loss: 0.3446 - acc: 0.9044 - val_loss: 0.3253 - val_acc: 0.9111\n",
      "Epoch 32/200\n",
      "48000/48000 [==============================] - 1s 28us/step - loss: 0.3429 - acc: 0.9047 - val_loss: 0.3240 - val_acc: 0.9120\n",
      "Epoch 33/200\n",
      "48000/48000 [==============================] - 1s 28us/step - loss: 0.3412 - acc: 0.9054 - val_loss: 0.3227 - val_acc: 0.9121\n",
      "Epoch 34/200\n",
      "48000/48000 [==============================] - 1s 27us/step - loss: 0.3397 - acc: 0.9060 - val_loss: 0.3214 - val_acc: 0.9122\n",
      "Epoch 35/200\n",
      "48000/48000 [==============================] - 1s 27us/step - loss: 0.3382 - acc: 0.9064 - val_loss: 0.3202 - val_acc: 0.9126\n",
      "Epoch 36/200\n",
      "48000/48000 [==============================] - 1s 27us/step - loss: 0.3367 - acc: 0.9065 - val_loss: 0.3190 - val_acc: 0.9129\n",
      "Epoch 37/200\n",
      "48000/48000 [==============================] - 1s 27us/step - loss: 0.3353 - acc: 0.9070 - val_loss: 0.3179 - val_acc: 0.9135\n",
      "Epoch 38/200\n",
      "48000/48000 [==============================] - 1s 27us/step - loss: 0.3340 - acc: 0.9076 - val_loss: 0.3169 - val_acc: 0.9132\n",
      "Epoch 39/200\n",
      "48000/48000 [==============================] - 1s 28us/step - loss: 0.3327 - acc: 0.9079 - val_loss: 0.3160 - val_acc: 0.9128\n",
      "Epoch 40/200\n",
      "48000/48000 [==============================] - 1s 28us/step - loss: 0.3315 - acc: 0.9081 - val_loss: 0.3149 - val_acc: 0.9141\n",
      "Epoch 41/200\n",
      "48000/48000 [==============================] - 1s 29us/step - loss: 0.3303 - acc: 0.9086 - val_loss: 0.3140 - val_acc: 0.9145\n",
      "Epoch 42/200\n",
      "48000/48000 [==============================] - 1s 28us/step - loss: 0.3292 - acc: 0.9089 - val_loss: 0.3130 - val_acc: 0.9139\n",
      "Epoch 43/200\n",
      "48000/48000 [==============================] - 1s 28us/step - loss: 0.3281 - acc: 0.9094 - val_loss: 0.3122 - val_acc: 0.9143\n",
      "Epoch 44/200\n",
      "48000/48000 [==============================] - 1s 27us/step - loss: 0.3270 - acc: 0.9097 - val_loss: 0.3113 - val_acc: 0.9152\n",
      "Epoch 45/200\n",
      "48000/48000 [==============================] - 1s 28us/step - loss: 0.3260 - acc: 0.9098 - val_loss: 0.3106 - val_acc: 0.9151\n",
      "Epoch 46/200\n",
      "48000/48000 [==============================] - 1s 28us/step - loss: 0.3250 - acc: 0.9100 - val_loss: 0.3098 - val_acc: 0.9143\n",
      "Epoch 47/200\n",
      "48000/48000 [==============================] - 1s 27us/step - loss: 0.3240 - acc: 0.9105 - val_loss: 0.3091 - val_acc: 0.9145\n",
      "Epoch 48/200\n",
      "48000/48000 [==============================] - 1s 27us/step - loss: 0.3231 - acc: 0.9104 - val_loss: 0.3083 - val_acc: 0.9147\n",
      "Epoch 49/200\n",
      "48000/48000 [==============================] - 1s 28us/step - loss: 0.3222 - acc: 0.9108 - val_loss: 0.3076 - val_acc: 0.9155\n",
      "Epoch 50/200\n",
      "48000/48000 [==============================] - 1s 26us/step - loss: 0.3213 - acc: 0.9110 - val_loss: 0.3069 - val_acc: 0.9152\n",
      "Epoch 51/200\n",
      "48000/48000 [==============================] - 1s 27us/step - loss: 0.3204 - acc: 0.9109 - val_loss: 0.3063 - val_acc: 0.9153\n",
      "Epoch 52/200\n",
      "48000/48000 [==============================] - 1s 27us/step - loss: 0.3196 - acc: 0.9114 - val_loss: 0.3055 - val_acc: 0.9152\n",
      "Epoch 53/200\n",
      "48000/48000 [==============================] - 1s 27us/step - loss: 0.3188 - acc: 0.9119 - val_loss: 0.3050 - val_acc: 0.9157\n",
      "Epoch 54/200\n",
      "48000/48000 [==============================] - 1s 27us/step - loss: 0.3180 - acc: 0.9114 - val_loss: 0.3044 - val_acc: 0.9152\n",
      "Epoch 55/200\n",
      "48000/48000 [==============================] - 1s 27us/step - loss: 0.3172 - acc: 0.9122 - val_loss: 0.3038 - val_acc: 0.9161\n",
      "Epoch 56/200\n",
      "48000/48000 [==============================] - 1s 25us/step - loss: 0.3165 - acc: 0.9123 - val_loss: 0.3033 - val_acc: 0.9162\n",
      "Epoch 57/200\n",
      "48000/48000 [==============================] - 1s 27us/step - loss: 0.3158 - acc: 0.9128 - val_loss: 0.3026 - val_acc: 0.9157\n",
      "Epoch 58/200\n",
      "48000/48000 [==============================] - 1s 26us/step - loss: 0.3151 - acc: 0.9125 - val_loss: 0.3021 - val_acc: 0.9158\n",
      "Epoch 59/200\n"
     ]
    },
    {
     "name": "stdout",
     "output_type": "stream",
     "text": [
      "48000/48000 [==============================] - 1s 26us/step - loss: 0.3144 - acc: 0.9130 - val_loss: 0.3016 - val_acc: 0.9160\n",
      "Epoch 60/200\n",
      "48000/48000 [==============================] - 1s 26us/step - loss: 0.3137 - acc: 0.9131 - val_loss: 0.3011 - val_acc: 0.9164\n",
      "Epoch 61/200\n",
      "48000/48000 [==============================] - 1s 27us/step - loss: 0.3131 - acc: 0.9133 - val_loss: 0.3006 - val_acc: 0.9164\n",
      "Epoch 62/200\n",
      "48000/48000 [==============================] - 1s 27us/step - loss: 0.3124 - acc: 0.9136 - val_loss: 0.3001 - val_acc: 0.9167\n",
      "Epoch 63/200\n",
      "48000/48000 [==============================] - 1s 27us/step - loss: 0.3118 - acc: 0.9134 - val_loss: 0.2996 - val_acc: 0.9168\n",
      "Epoch 64/200\n",
      "48000/48000 [==============================] - 1s 28us/step - loss: 0.3111 - acc: 0.9135 - val_loss: 0.2992 - val_acc: 0.9168\n",
      "Epoch 65/200\n",
      "48000/48000 [==============================] - 1s 27us/step - loss: 0.3106 - acc: 0.9137 - val_loss: 0.2987 - val_acc: 0.9168\n",
      "Epoch 66/200\n",
      "48000/48000 [==============================] - 1s 27us/step - loss: 0.3100 - acc: 0.9141 - val_loss: 0.2983 - val_acc: 0.9168\n",
      "Epoch 67/200\n",
      "48000/48000 [==============================] - 1s 26us/step - loss: 0.3094 - acc: 0.9145 - val_loss: 0.2978 - val_acc: 0.9172\n",
      "Epoch 68/200\n",
      "48000/48000 [==============================] - 1s 27us/step - loss: 0.3088 - acc: 0.9145 - val_loss: 0.2974 - val_acc: 0.9172\n",
      "Epoch 69/200\n",
      "48000/48000 [==============================] - 1s 27us/step - loss: 0.3083 - acc: 0.9148 - val_loss: 0.2970 - val_acc: 0.9172\n",
      "Epoch 70/200\n",
      "48000/48000 [==============================] - 1s 27us/step - loss: 0.3077 - acc: 0.9147 - val_loss: 0.2966 - val_acc: 0.9174\n",
      "Epoch 71/200\n",
      "48000/48000 [==============================] - 1s 27us/step - loss: 0.3072 - acc: 0.9148 - val_loss: 0.2962 - val_acc: 0.9177\n",
      "Epoch 72/200\n",
      "48000/48000 [==============================] - 1s 27us/step - loss: 0.3067 - acc: 0.9149 - val_loss: 0.2959 - val_acc: 0.9180\n",
      "Epoch 73/200\n",
      "48000/48000 [==============================] - 1s 27us/step - loss: 0.3062 - acc: 0.9151 - val_loss: 0.2955 - val_acc: 0.9179\n",
      "Epoch 74/200\n",
      "48000/48000 [==============================] - 1s 27us/step - loss: 0.3057 - acc: 0.9152 - val_loss: 0.2951 - val_acc: 0.9183\n",
      "Epoch 75/200\n",
      "48000/48000 [==============================] - 1s 27us/step - loss: 0.3052 - acc: 0.9154 - val_loss: 0.2948 - val_acc: 0.9185\n",
      "Epoch 76/200\n",
      "48000/48000 [==============================] - 1s 28us/step - loss: 0.3047 - acc: 0.9155 - val_loss: 0.2944 - val_acc: 0.9184\n",
      "Epoch 77/200\n",
      "48000/48000 [==============================] - 1s 26us/step - loss: 0.3043 - acc: 0.9155 - val_loss: 0.2940 - val_acc: 0.9182\n",
      "Epoch 78/200\n",
      "48000/48000 [==============================] - 1s 25us/step - loss: 0.3038 - acc: 0.9154 - val_loss: 0.2937 - val_acc: 0.9184\n",
      "Epoch 79/200\n",
      "48000/48000 [==============================] - 1s 25us/step - loss: 0.3033 - acc: 0.9156 - val_loss: 0.2933 - val_acc: 0.9185\n",
      "Epoch 80/200\n",
      "48000/48000 [==============================] - 1s 27us/step - loss: 0.3029 - acc: 0.9156 - val_loss: 0.2930 - val_acc: 0.9192\n",
      "Epoch 81/200\n",
      "48000/48000 [==============================] - 1s 27us/step - loss: 0.3025 - acc: 0.9157 - val_loss: 0.2928 - val_acc: 0.9189\n",
      "Epoch 82/200\n",
      "48000/48000 [==============================] - 1s 27us/step - loss: 0.3021 - acc: 0.9161 - val_loss: 0.2924 - val_acc: 0.9188\n",
      "Epoch 83/200\n",
      "48000/48000 [==============================] - 1s 27us/step - loss: 0.3016 - acc: 0.9160 - val_loss: 0.2921 - val_acc: 0.9192\n",
      "Epoch 84/200\n",
      "48000/48000 [==============================] - 1s 28us/step - loss: 0.3012 - acc: 0.9162 - val_loss: 0.2918 - val_acc: 0.9188\n",
      "Epoch 85/200\n",
      "48000/48000 [==============================] - 1s 28us/step - loss: 0.3008 - acc: 0.9165 - val_loss: 0.2916 - val_acc: 0.9191\n",
      "Epoch 86/200\n",
      "48000/48000 [==============================] - 1s 27us/step - loss: 0.3004 - acc: 0.9164 - val_loss: 0.2913 - val_acc: 0.9190\n",
      "Epoch 87/200\n",
      "48000/48000 [==============================] - 1s 27us/step - loss: 0.3000 - acc: 0.9165 - val_loss: 0.2910 - val_acc: 0.9194\n",
      "Epoch 88/200\n",
      "48000/48000 [==============================] - 1s 27us/step - loss: 0.2996 - acc: 0.9163 - val_loss: 0.2907 - val_acc: 0.9196\n",
      "Epoch 89/200\n",
      "48000/48000 [==============================] - 1s 27us/step - loss: 0.2992 - acc: 0.9166 - val_loss: 0.2904 - val_acc: 0.9199\n",
      "Epoch 90/200\n",
      "48000/48000 [==============================] - 1s 28us/step - loss: 0.2989 - acc: 0.9168 - val_loss: 0.2902 - val_acc: 0.9197\n",
      "Epoch 91/200\n",
      "48000/48000 [==============================] - 1s 27us/step - loss: 0.2985 - acc: 0.9169 - val_loss: 0.2899 - val_acc: 0.9199\n",
      "Epoch 92/200\n",
      "48000/48000 [==============================] - 1s 27us/step - loss: 0.2982 - acc: 0.9170 - val_loss: 0.2896 - val_acc: 0.9204\n",
      "Epoch 93/200\n",
      "48000/48000 [==============================] - 1s 27us/step - loss: 0.2978 - acc: 0.9171 - val_loss: 0.2893 - val_acc: 0.9201\n",
      "Epoch 94/200\n",
      "48000/48000 [==============================] - 1s 27us/step - loss: 0.2975 - acc: 0.9173 - val_loss: 0.2891 - val_acc: 0.9201\n",
      "Epoch 95/200\n",
      "48000/48000 [==============================] - 1s 26us/step - loss: 0.2971 - acc: 0.9171 - val_loss: 0.2888 - val_acc: 0.9202\n",
      "Epoch 96/200\n",
      "48000/48000 [==============================] - 1s 27us/step - loss: 0.2968 - acc: 0.9173 - val_loss: 0.2887 - val_acc: 0.9207\n",
      "Epoch 97/200\n",
      "48000/48000 [==============================] - 1s 28us/step - loss: 0.2964 - acc: 0.9176 - val_loss: 0.2883 - val_acc: 0.9205\n",
      "Epoch 98/200\n",
      "48000/48000 [==============================] - 1s 27us/step - loss: 0.2961 - acc: 0.9175 - val_loss: 0.2881 - val_acc: 0.9207\n",
      "Epoch 99/200\n",
      "48000/48000 [==============================] - 1s 27us/step - loss: 0.2958 - acc: 0.9175 - val_loss: 0.2879 - val_acc: 0.9204\n",
      "Epoch 100/200\n",
      "48000/48000 [==============================] - 1s 28us/step - loss: 0.2954 - acc: 0.9176 - val_loss: 0.2877 - val_acc: 0.9207\n",
      "Epoch 101/200\n",
      "48000/48000 [==============================] - 1s 26us/step - loss: 0.2951 - acc: 0.9179 - val_loss: 0.2874 - val_acc: 0.9206\n",
      "Epoch 102/200\n",
      "48000/48000 [==============================] - 1s 28us/step - loss: 0.2948 - acc: 0.9177 - val_loss: 0.2873 - val_acc: 0.9205\n",
      "Epoch 103/200\n",
      "48000/48000 [==============================] - 1s 27us/step - loss: 0.2945 - acc: 0.9181 - val_loss: 0.2871 - val_acc: 0.9207\n",
      "Epoch 104/200\n",
      "48000/48000 [==============================] - 1s 28us/step - loss: 0.2942 - acc: 0.9178 - val_loss: 0.2868 - val_acc: 0.9205\n",
      "Epoch 105/200\n",
      "48000/48000 [==============================] - 1s 27us/step - loss: 0.2939 - acc: 0.9180 - val_loss: 0.2866 - val_acc: 0.9207\n",
      "Epoch 106/200\n",
      "48000/48000 [==============================] - 1s 26us/step - loss: 0.2936 - acc: 0.9182 - val_loss: 0.2864 - val_acc: 0.9210\n",
      "Epoch 107/200\n",
      "48000/48000 [==============================] - 1s 25us/step - loss: 0.2933 - acc: 0.9181 - val_loss: 0.2861 - val_acc: 0.9206\n",
      "Epoch 108/200\n",
      "48000/48000 [==============================] - 1s 27us/step - loss: 0.2930 - acc: 0.9184 - val_loss: 0.2861 - val_acc: 0.9209\n",
      "Epoch 109/200\n",
      "48000/48000 [==============================] - 1s 26us/step - loss: 0.2928 - acc: 0.9183 - val_loss: 0.2858 - val_acc: 0.9210\n",
      "Epoch 110/200\n",
      "48000/48000 [==============================] - 1s 26us/step - loss: 0.2925 - acc: 0.9185 - val_loss: 0.2856 - val_acc: 0.9208\n",
      "Epoch 111/200\n",
      "48000/48000 [==============================] - 1s 26us/step - loss: 0.2922 - acc: 0.9186 - val_loss: 0.2854 - val_acc: 0.9211\n",
      "Epoch 112/200\n",
      "48000/48000 [==============================] - 1s 27us/step - loss: 0.2919 - acc: 0.9186 - val_loss: 0.2852 - val_acc: 0.9209\n",
      "Epoch 113/200\n",
      "48000/48000 [==============================] - 1s 26us/step - loss: 0.2916 - acc: 0.9186 - val_loss: 0.2850 - val_acc: 0.9212\n",
      "Epoch 114/200\n",
      "48000/48000 [==============================] - 1s 28us/step - loss: 0.2914 - acc: 0.9187 - val_loss: 0.2848 - val_acc: 0.9210\n",
      "Epoch 115/200\n",
      "48000/48000 [==============================] - 1s 27us/step - loss: 0.2911 - acc: 0.9187 - val_loss: 0.2846 - val_acc: 0.9210\n",
      "Epoch 116/200\n",
      "48000/48000 [==============================] - 1s 27us/step - loss: 0.2908 - acc: 0.9191 - val_loss: 0.2845 - val_acc: 0.9214\n",
      "Epoch 117/200\n",
      "48000/48000 [==============================] - 1s 27us/step - loss: 0.2906 - acc: 0.9188 - val_loss: 0.2844 - val_acc: 0.9211\n"
     ]
    },
    {
     "name": "stdout",
     "output_type": "stream",
     "text": [
      "Epoch 118/200\n",
      "48000/48000 [==============================] - 1s 27us/step - loss: 0.2904 - acc: 0.9189 - val_loss: 0.2841 - val_acc: 0.9215\n",
      "Epoch 119/200\n",
      "48000/48000 [==============================] - 1s 27us/step - loss: 0.2901 - acc: 0.9190 - val_loss: 0.2839 - val_acc: 0.9213\n",
      "Epoch 120/200\n",
      "48000/48000 [==============================] - 1s 27us/step - loss: 0.2898 - acc: 0.9190 - val_loss: 0.2838 - val_acc: 0.9216\n",
      "Epoch 121/200\n",
      "48000/48000 [==============================] - 1s 27us/step - loss: 0.2896 - acc: 0.9193 - val_loss: 0.2837 - val_acc: 0.9211\n",
      "Epoch 122/200\n",
      "48000/48000 [==============================] - 1s 26us/step - loss: 0.2894 - acc: 0.9189 - val_loss: 0.2835 - val_acc: 0.9218\n",
      "Epoch 123/200\n",
      "48000/48000 [==============================] - 1s 26us/step - loss: 0.2891 - acc: 0.9196 - val_loss: 0.2834 - val_acc: 0.9218\n",
      "Epoch 124/200\n",
      "48000/48000 [==============================] - 1s 27us/step - loss: 0.2889 - acc: 0.9195 - val_loss: 0.2831 - val_acc: 0.9217\n",
      "Epoch 125/200\n",
      "48000/48000 [==============================] - 1s 26us/step - loss: 0.2886 - acc: 0.9194 - val_loss: 0.2830 - val_acc: 0.9215\n",
      "Epoch 126/200\n",
      "48000/48000 [==============================] - 1s 26us/step - loss: 0.2884 - acc: 0.9194 - val_loss: 0.2829 - val_acc: 0.9225\n",
      "Epoch 127/200\n",
      "48000/48000 [==============================] - 1s 26us/step - loss: 0.2882 - acc: 0.9198 - val_loss: 0.2827 - val_acc: 0.9217\n",
      "Epoch 128/200\n",
      "48000/48000 [==============================] - 1s 27us/step - loss: 0.2880 - acc: 0.9196 - val_loss: 0.2825 - val_acc: 0.9223\n",
      "Epoch 129/200\n",
      "48000/48000 [==============================] - 1s 26us/step - loss: 0.2877 - acc: 0.9199 - val_loss: 0.2825 - val_acc: 0.9219\n",
      "Epoch 130/200\n",
      "48000/48000 [==============================] - 1s 27us/step - loss: 0.2875 - acc: 0.9197 - val_loss: 0.2822 - val_acc: 0.9219\n",
      "Epoch 131/200\n",
      "48000/48000 [==============================] - 1s 27us/step - loss: 0.2872 - acc: 0.9201 - val_loss: 0.2822 - val_acc: 0.9212\n",
      "Epoch 132/200\n",
      "48000/48000 [==============================] - 1s 27us/step - loss: 0.2871 - acc: 0.9199 - val_loss: 0.2820 - val_acc: 0.9221\n",
      "Epoch 133/200\n",
      "48000/48000 [==============================] - 1s 28us/step - loss: 0.2868 - acc: 0.9199 - val_loss: 0.2819 - val_acc: 0.9216\n",
      "Epoch 134/200\n",
      "48000/48000 [==============================] - 1s 28us/step - loss: 0.2867 - acc: 0.9200 - val_loss: 0.2817 - val_acc: 0.9218\n",
      "Epoch 135/200\n",
      "48000/48000 [==============================] - 1s 26us/step - loss: 0.2864 - acc: 0.9201 - val_loss: 0.2816 - val_acc: 0.9220\n",
      "Epoch 136/200\n",
      "48000/48000 [==============================] - 1s 27us/step - loss: 0.2862 - acc: 0.9201 - val_loss: 0.2814 - val_acc: 0.9219\n",
      "Epoch 137/200\n",
      "48000/48000 [==============================] - 1s 25us/step - loss: 0.2860 - acc: 0.9203 - val_loss: 0.2813 - val_acc: 0.9225\n",
      "Epoch 138/200\n",
      "48000/48000 [==============================] - 1s 27us/step - loss: 0.2858 - acc: 0.9203 - val_loss: 0.2811 - val_acc: 0.9220\n",
      "Epoch 139/200\n",
      "48000/48000 [==============================] - 1s 27us/step - loss: 0.2856 - acc: 0.9204 - val_loss: 0.2810 - val_acc: 0.9215\n",
      "Epoch 140/200\n",
      "48000/48000 [==============================] - 1s 27us/step - loss: 0.2854 - acc: 0.9203 - val_loss: 0.2809 - val_acc: 0.9219\n",
      "Epoch 141/200\n",
      "48000/48000 [==============================] - 1s 26us/step - loss: 0.2852 - acc: 0.9204 - val_loss: 0.2808 - val_acc: 0.9219\n",
      "Epoch 142/200\n",
      "48000/48000 [==============================] - 1s 27us/step - loss: 0.2850 - acc: 0.9204 - val_loss: 0.2806 - val_acc: 0.9219\n",
      "Epoch 143/200\n",
      "48000/48000 [==============================] - 1s 27us/step - loss: 0.2848 - acc: 0.9205 - val_loss: 0.2805 - val_acc: 0.9223\n",
      "Epoch 144/200\n",
      "48000/48000 [==============================] - 1s 26us/step - loss: 0.2846 - acc: 0.9208 - val_loss: 0.2804 - val_acc: 0.9221\n",
      "Epoch 145/200\n",
      "48000/48000 [==============================] - 1s 27us/step - loss: 0.2845 - acc: 0.9205 - val_loss: 0.2803 - val_acc: 0.9220\n",
      "Epoch 146/200\n",
      "48000/48000 [==============================] - 1s 28us/step - loss: 0.2843 - acc: 0.9205 - val_loss: 0.2801 - val_acc: 0.9219\n",
      "Epoch 147/200\n",
      "48000/48000 [==============================] - 1s 27us/step - loss: 0.2841 - acc: 0.9208 - val_loss: 0.2800 - val_acc: 0.9218\n",
      "Epoch 148/200\n",
      "48000/48000 [==============================] - 1s 26us/step - loss: 0.2839 - acc: 0.9208 - val_loss: 0.2799 - val_acc: 0.9223\n",
      "Epoch 149/200\n",
      "48000/48000 [==============================] - 1s 27us/step - loss: 0.2837 - acc: 0.9207 - val_loss: 0.2798 - val_acc: 0.9221\n",
      "Epoch 150/200\n",
      "48000/48000 [==============================] - 1s 27us/step - loss: 0.2835 - acc: 0.9208 - val_loss: 0.2797 - val_acc: 0.9220\n",
      "Epoch 151/200\n",
      "48000/48000 [==============================] - 1s 27us/step - loss: 0.2834 - acc: 0.9211 - val_loss: 0.2796 - val_acc: 0.9217\n",
      "Epoch 152/200\n",
      "48000/48000 [==============================] - 1s 27us/step - loss: 0.2831 - acc: 0.9210 - val_loss: 0.2795 - val_acc: 0.9221\n",
      "Epoch 153/200\n",
      "48000/48000 [==============================] - 1s 27us/step - loss: 0.2830 - acc: 0.9212 - val_loss: 0.2794 - val_acc: 0.9222\n",
      "Epoch 154/200\n",
      "48000/48000 [==============================] - 1s 27us/step - loss: 0.2828 - acc: 0.9212 - val_loss: 0.2792 - val_acc: 0.9218\n",
      "Epoch 155/200\n",
      "48000/48000 [==============================] - 1s 27us/step - loss: 0.2826 - acc: 0.9212 - val_loss: 0.2791 - val_acc: 0.9222\n",
      "Epoch 156/200\n",
      "48000/48000 [==============================] - 1s 26us/step - loss: 0.2825 - acc: 0.9214 - val_loss: 0.2790 - val_acc: 0.9223\n",
      "Epoch 157/200\n",
      "48000/48000 [==============================] - 1s 26us/step - loss: 0.2823 - acc: 0.9213 - val_loss: 0.2789 - val_acc: 0.9222\n",
      "Epoch 158/200\n",
      "48000/48000 [==============================] - 1s 26us/step - loss: 0.2821 - acc: 0.9212 - val_loss: 0.2788 - val_acc: 0.9222\n",
      "Epoch 159/200\n",
      "48000/48000 [==============================] - 1s 28us/step - loss: 0.2820 - acc: 0.9215 - val_loss: 0.2788 - val_acc: 0.9219\n",
      "Epoch 160/200\n",
      "48000/48000 [==============================] - 1s 25us/step - loss: 0.2818 - acc: 0.9213 - val_loss: 0.2786 - val_acc: 0.9225\n",
      "Epoch 161/200\n",
      "48000/48000 [==============================] - 1s 24us/step - loss: 0.2816 - acc: 0.9215 - val_loss: 0.2785 - val_acc: 0.9223\n",
      "Epoch 162/200\n",
      "48000/48000 [==============================] - 1s 27us/step - loss: 0.2815 - acc: 0.9214 - val_loss: 0.2784 - val_acc: 0.9222\n",
      "Epoch 163/200\n",
      "48000/48000 [==============================] - 1s 27us/step - loss: 0.2813 - acc: 0.9216 - val_loss: 0.2783 - val_acc: 0.9225\n",
      "Epoch 164/200\n",
      "48000/48000 [==============================] - 1s 26us/step - loss: 0.2811 - acc: 0.9216 - val_loss: 0.2783 - val_acc: 0.9223\n",
      "Epoch 165/200\n",
      "48000/48000 [==============================] - 1s 27us/step - loss: 0.2810 - acc: 0.9217 - val_loss: 0.2782 - val_acc: 0.9222\n",
      "Epoch 166/200\n",
      "48000/48000 [==============================] - 1s 27us/step - loss: 0.2809 - acc: 0.9216 - val_loss: 0.2781 - val_acc: 0.9224\n",
      "Epoch 167/200\n",
      "48000/48000 [==============================] - 1s 27us/step - loss: 0.2806 - acc: 0.9217 - val_loss: 0.2779 - val_acc: 0.9226\n",
      "Epoch 168/200\n",
      "48000/48000 [==============================] - 1s 27us/step - loss: 0.2805 - acc: 0.9218 - val_loss: 0.2778 - val_acc: 0.9224\n",
      "Epoch 169/200\n",
      "48000/48000 [==============================] - 1s 27us/step - loss: 0.2803 - acc: 0.9221 - val_loss: 0.2778 - val_acc: 0.9224\n",
      "Epoch 170/200\n",
      "48000/48000 [==============================] - 1s 28us/step - loss: 0.2802 - acc: 0.9218 - val_loss: 0.2777 - val_acc: 0.9227\n",
      "Epoch 171/200\n",
      "48000/48000 [==============================] - 1s 27us/step - loss: 0.2801 - acc: 0.9217 - val_loss: 0.2776 - val_acc: 0.9223\n",
      "Epoch 172/200\n",
      "48000/48000 [==============================] - 1s 25us/step - loss: 0.2799 - acc: 0.9218 - val_loss: 0.2775 - val_acc: 0.9227\n",
      "Epoch 173/200\n",
      "48000/48000 [==============================] - 1s 26us/step - loss: 0.2798 - acc: 0.9217 - val_loss: 0.2773 - val_acc: 0.9225\n",
      "Epoch 174/200\n",
      "48000/48000 [==============================] - 1s 27us/step - loss: 0.2796 - acc: 0.9220 - val_loss: 0.2773 - val_acc: 0.9223\n",
      "Epoch 175/200\n",
      "48000/48000 [==============================] - 1s 28us/step - loss: 0.2795 - acc: 0.9220 - val_loss: 0.2772 - val_acc: 0.9223\n",
      "Epoch 176/200\n"
     ]
    },
    {
     "name": "stdout",
     "output_type": "stream",
     "text": [
      "48000/48000 [==============================] - 1s 27us/step - loss: 0.2793 - acc: 0.9222 - val_loss: 0.2772 - val_acc: 0.9224\n",
      "Epoch 177/200\n",
      "48000/48000 [==============================] - 1s 28us/step - loss: 0.2792 - acc: 0.9221 - val_loss: 0.2770 - val_acc: 0.9228\n",
      "Epoch 178/200\n",
      "48000/48000 [==============================] - 1s 28us/step - loss: 0.2790 - acc: 0.9222 - val_loss: 0.2769 - val_acc: 0.9227\n",
      "Epoch 179/200\n",
      "48000/48000 [==============================] - 1s 27us/step - loss: 0.2789 - acc: 0.9221 - val_loss: 0.2768 - val_acc: 0.9227\n",
      "Epoch 180/200\n",
      "48000/48000 [==============================] - 1s 27us/step - loss: 0.2787 - acc: 0.9222 - val_loss: 0.2767 - val_acc: 0.9223\n",
      "Epoch 181/200\n",
      "48000/48000 [==============================] - 1s 27us/step - loss: 0.2786 - acc: 0.9221 - val_loss: 0.2766 - val_acc: 0.9227\n",
      "Epoch 182/200\n",
      "48000/48000 [==============================] - 1s 28us/step - loss: 0.2785 - acc: 0.9221 - val_loss: 0.2765 - val_acc: 0.9224\n",
      "Epoch 183/200\n",
      "48000/48000 [==============================] - 1s 27us/step - loss: 0.2783 - acc: 0.9222 - val_loss: 0.2765 - val_acc: 0.9223\n",
      "Epoch 184/200\n",
      "48000/48000 [==============================] - 1s 28us/step - loss: 0.2782 - acc: 0.9223 - val_loss: 0.2764 - val_acc: 0.9226\n",
      "Epoch 185/200\n",
      "48000/48000 [==============================] - 1s 27us/step - loss: 0.2781 - acc: 0.9225 - val_loss: 0.2764 - val_acc: 0.9224\n",
      "Epoch 186/200\n",
      "48000/48000 [==============================] - 1s 28us/step - loss: 0.2779 - acc: 0.9223 - val_loss: 0.2762 - val_acc: 0.9227\n",
      "Epoch 187/200\n",
      "48000/48000 [==============================] - 1s 27us/step - loss: 0.2778 - acc: 0.9225 - val_loss: 0.2763 - val_acc: 0.9227\n",
      "Epoch 188/200\n",
      "48000/48000 [==============================] - 1s 27us/step - loss: 0.2777 - acc: 0.9223 - val_loss: 0.2761 - val_acc: 0.9228\n",
      "Epoch 189/200\n",
      "48000/48000 [==============================] - 1s 27us/step - loss: 0.2775 - acc: 0.9226 - val_loss: 0.2760 - val_acc: 0.9227\n",
      "Epoch 190/200\n",
      "48000/48000 [==============================] - 1s 28us/step - loss: 0.2774 - acc: 0.9226 - val_loss: 0.2759 - val_acc: 0.9225\n",
      "Epoch 191/200\n",
      "48000/48000 [==============================] - 1s 27us/step - loss: 0.2773 - acc: 0.9224 - val_loss: 0.2758 - val_acc: 0.9228\n",
      "Epoch 192/200\n",
      "48000/48000 [==============================] - 1s 27us/step - loss: 0.2771 - acc: 0.9226 - val_loss: 0.2758 - val_acc: 0.9227\n",
      "Epoch 193/200\n",
      "48000/48000 [==============================] - 1s 27us/step - loss: 0.2770 - acc: 0.9227 - val_loss: 0.2757 - val_acc: 0.9229\n",
      "Epoch 194/200\n",
      "48000/48000 [==============================] - 1s 28us/step - loss: 0.2769 - acc: 0.9228 - val_loss: 0.2757 - val_acc: 0.9230\n",
      "Epoch 195/200\n",
      "48000/48000 [==============================] - 1s 27us/step - loss: 0.2767 - acc: 0.9226 - val_loss: 0.2756 - val_acc: 0.9228\n",
      "Epoch 196/200\n",
      "48000/48000 [==============================] - 1s 28us/step - loss: 0.2767 - acc: 0.9226 - val_loss: 0.2755 - val_acc: 0.9226\n",
      "Epoch 197/200\n",
      "48000/48000 [==============================] - 1s 27us/step - loss: 0.2765 - acc: 0.9227 - val_loss: 0.2754 - val_acc: 0.9232\n",
      "Epoch 198/200\n",
      "48000/48000 [==============================] - 1s 28us/step - loss: 0.2764 - acc: 0.9229 - val_loss: 0.2753 - val_acc: 0.9229\n",
      "Epoch 199/200\n",
      "48000/48000 [==============================] - 1s 28us/step - loss: 0.2763 - acc: 0.9233 - val_loss: 0.2754 - val_acc: 0.9230\n",
      "Epoch 200/200\n",
      "48000/48000 [==============================] - 1s 27us/step - loss: 0.2761 - acc: 0.9230 - val_loss: 0.2752 - val_acc: 0.9227\n"
     ]
    }
   ],
   "source": [
    "history = model.fit(\n",
    "    X_train, Y_train, batch_size=128, epochs=200,\n",
    "    validation_split=0.2\n",
    ")"
   ]
  },
  {
   "cell_type": "code",
   "execution_count": 126,
   "metadata": {
    "collapsed": true
   },
   "outputs": [],
   "source": [
    "train_results = DataFrame(history.history)"
   ]
  },
  {
   "cell_type": "code",
   "execution_count": 127,
   "metadata": {},
   "outputs": [
    {
     "data": {
      "text/plain": [
       "<matplotlib.axes._subplots.AxesSubplot at 0x7f90e44677b8>"
      ]
     },
     "execution_count": 127,
     "metadata": {},
     "output_type": "execute_result"
    },
    {
     "data": {
      "image/png": "[encoded data removed]",
      "text/plain": [
       "<matplotlib.figure.Figure at 0x7f90e444ccc0>"
      ]
     },
     "metadata": {},
     "output_type": "display_data"
    }
   ],
   "source": [
    "train_results[['acc', 'val_acc']].plot()"
   ]
  },
  {
   "cell_type": "code",
   "execution_count": 128,
   "metadata": {},
   "outputs": [
    {
     "data": {
      "text/plain": [
       "<matplotlib.axes._subplots.AxesSubplot at 0x7f90e42c3898>"
      ]
     },
     "execution_count": 128,
     "metadata": {},
     "output_type": "execute_result"
    },
    {
     "data": {
      "image/png": "[encoded data removed]",
      "text/plain": [
       "<matplotlib.figure.Figure at 0x7f90e440b240>"
      ]
     },
     "metadata": {},
     "output_type": "display_data"
    }
   ],
   "source": [
    "train_results[['loss', 'val_loss']].plot()"
   ]
  },
  {
   "cell_type": "code",
   "execution_count": 129,
   "metadata": {
    "collapsed": true
   },
   "outputs": [],
   "source": [
    "model = Sequential()"
   ]
  },
  {
   "cell_type": "markdown",
   "metadata": {},
   "source": [
    "은닉층 (Hidden Layer)"
   ]
  },
  {
   "cell_type": "markdown",
   "metadata": {},
   "source": [
    "1층"
   ]
  },
  {
   "cell_type": "code",
   "execution_count": 130,
   "metadata": {
    "collapsed": true
   },
   "outputs": [],
   "source": [
    "model.add(Dense(128, input_shape=(28*28,), activation='relu'))"
   ]
  },
  {
   "cell_type": "markdown",
   "metadata": {},
   "source": [
    "2층"
   ]
  },
  {
   "cell_type": "code",
   "execution_count": 131,
   "metadata": {
    "collapsed": true
   },
   "outputs": [],
   "source": [
    "model.add(Dense(128, activation='relu'))"
   ]
  },
  {
   "cell_type": "markdown",
   "metadata": {},
   "source": [
    "3층"
   ]
  },
  {
   "cell_type": "code",
   "execution_count": 132,
   "metadata": {
    "collapsed": true
   },
   "outputs": [],
   "source": [
    "model.add(Dense(128, activation='relu'))"
   ]
  },
  {
   "cell_type": "markdown",
   "metadata": {},
   "source": [
    "출력층"
   ]
  },
  {
   "cell_type": "code",
   "execution_count": 133,
   "metadata": {
    "collapsed": true
   },
   "outputs": [],
   "source": [
    "model.add(Dense(10, activation='softmax'))"
   ]
  },
  {
   "cell_type": "markdown",
   "metadata": {},
   "source": [
    "모델 컴파일"
   ]
  },
  {
   "cell_type": "code",
   "execution_count": 134,
   "metadata": {
    "collapsed": true
   },
   "outputs": [],
   "source": [
    "model.compile(\n",
    "    loss='categorical_crossentropy', optimizer='sgd',\n",
    "    metrics=['accuracy']\n",
    ")"
   ]
  },
  {
   "cell_type": "markdown",
   "metadata": {},
   "source": [
    "훈련"
   ]
  },
  {
   "cell_type": "code",
   "execution_count": 135,
   "metadata": {},
   "outputs": [
    {
     "name": "stdout",
     "output_type": "stream",
     "text": [
      "Train on 48000 samples, validate on 12000 samples\n",
      "Epoch 1/20\n",
      "48000/48000 [==============================] - 3s 53us/step - loss: 1.6659 - acc: 0.5593 - val_loss: 0.8361 - val_acc: 0.8201\n",
      "Epoch 2/20\n",
      "48000/48000 [==============================] - 2s 48us/step - loss: 0.6134 - acc: 0.8456 - val_loss: 0.4434 - val_acc: 0.8809\n",
      "Epoch 3/20\n",
      "48000/48000 [==============================] - 2s 47us/step - loss: 0.4230 - acc: 0.8834 - val_loss: 0.3577 - val_acc: 0.8993\n",
      "Epoch 4/20\n",
      "48000/48000 [==============================] - 2s 47us/step - loss: 0.3609 - acc: 0.8983 - val_loss: 0.3207 - val_acc: 0.9077\n",
      "Epoch 5/20\n",
      "48000/48000 [==============================] - 2s 48us/step - loss: 0.3262 - acc: 0.9074 - val_loss: 0.2977 - val_acc: 0.9123\n",
      "Epoch 6/20\n",
      "48000/48000 [==============================] - 2s 48us/step - loss: 0.3024 - acc: 0.9136 - val_loss: 0.2788 - val_acc: 0.9201\n",
      "Epoch 7/20\n",
      "48000/48000 [==============================] - 2s 48us/step - loss: 0.2839 - acc: 0.9197 - val_loss: 0.2613 - val_acc: 0.9246\n",
      "Epoch 8/20\n",
      "48000/48000 [==============================] - 2s 48us/step - loss: 0.2686 - acc: 0.9227 - val_loss: 0.2520 - val_acc: 0.9264\n",
      "Epoch 9/20\n",
      "48000/48000 [==============================] - 2s 48us/step - loss: 0.2555 - acc: 0.9270 - val_loss: 0.2408 - val_acc: 0.9325\n",
      "Epoch 10/20\n",
      "48000/48000 [==============================] - 2s 48us/step - loss: 0.2444 - acc: 0.9298 - val_loss: 0.2303 - val_acc: 0.9334\n",
      "Epoch 11/20\n",
      "48000/48000 [==============================] - 2s 48us/step - loss: 0.2335 - acc: 0.9334 - val_loss: 0.2228 - val_acc: 0.9359\n",
      "Epoch 12/20\n",
      "48000/48000 [==============================] - 2s 47us/step - loss: 0.2244 - acc: 0.9359 - val_loss: 0.2167 - val_acc: 0.9372\n",
      "Epoch 13/20\n",
      "48000/48000 [==============================] - 2s 48us/step - loss: 0.2157 - acc: 0.9381 - val_loss: 0.2093 - val_acc: 0.9416\n",
      "Epoch 14/20\n",
      "48000/48000 [==============================] - 2s 48us/step - loss: 0.2079 - acc: 0.9421 - val_loss: 0.2060 - val_acc: 0.9410\n",
      "Epoch 15/20\n",
      "48000/48000 [==============================] - 2s 48us/step - loss: 0.2002 - acc: 0.9429 - val_loss: 0.1972 - val_acc: 0.9437\n",
      "Epoch 16/20\n",
      "48000/48000 [==============================] - 2s 49us/step - loss: 0.1929 - acc: 0.9451 - val_loss: 0.1932 - val_acc: 0.9447\n",
      "Epoch 17/20\n",
      "48000/48000 [==============================] - 2s 49us/step - loss: 0.1864 - acc: 0.9467 - val_loss: 0.1880 - val_acc: 0.9468\n",
      "Epoch 18/20\n",
      "48000/48000 [==============================] - 2s 48us/step - loss: 0.1803 - acc: 0.9486 - val_loss: 0.1830 - val_acc: 0.9493\n",
      "Epoch 19/20\n",
      "48000/48000 [==============================] - 2s 49us/step - loss: 0.1745 - acc: 0.9502 - val_loss: 0.1779 - val_acc: 0.9497\n",
      "Epoch 20/20\n",
      "48000/48000 [==============================] - 2s 49us/step - loss: 0.1689 - acc: 0.9515 - val_loss: 0.1729 - val_acc: 0.9518\n"
     ]
    }
   ],
   "source": [
    "history = model.fit(\n",
    "    X_train, Y_train, batch_size=128, epochs=20,\n",
    "    validation_split=0.2\n",
    ")"
   ]
  },
  {
   "cell_type": "code",
   "execution_count": 136,
   "metadata": {},
   "outputs": [
    {
     "name": "stdout",
     "output_type": "stream",
     "text": [
      "_________________________________________________________________\n",
      "Layer (type)                 Output Shape              Param #   \n",
      "=================================================================\n",
      "dense_2 (Dense)              (None, 128)               100480    \n",
      "_________________________________________________________________\n",
      "dense_3 (Dense)              (None, 128)               16512     \n",
      "_________________________________________________________________\n",
      "dense_4 (Dense)              (None, 128)               16512     \n",
      "_________________________________________________________________\n",
      "dense_5 (Dense)              (None, 10)                1290      \n",
      "=================================================================\n",
      "Total params: 134,794\n",
      "Trainable params: 134,794\n",
      "Non-trainable params: 0\n",
      "_________________________________________________________________\n"
     ]
    }
   ],
   "source": [
    "model.summary()"
   ]
  },
  {
   "cell_type": "code",
   "execution_count": null,
   "metadata": {
    "collapsed": true
   },
   "outputs": [],
   "source": []
  }
 ],
 "metadata": {
  "kernelspec": {
   "display_name": "Python 3",
   "language": "python",
   "name": "python3"
  },
  "language_info": {
   "codemirror_mode": {
    "name": "ipython",
    "version": 3
   },
   "file_extension": ".py",
   "mimetype": "text/x-python",
   "name": "python",
   "nbconvert_exporter": "python",
   "pygments_lexer": "ipython3",
   "version": "3.6.3"
  }
 },
 "nbformat": 4,
 "nbformat_minor": 2
}
