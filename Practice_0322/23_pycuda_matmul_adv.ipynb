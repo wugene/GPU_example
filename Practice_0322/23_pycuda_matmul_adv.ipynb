{
 "cells": [
  {
   "cell_type": "code",
   "execution_count": 1,
   "metadata": {
    "collapsed": true
   },
   "outputs": [],
   "source": [
    "import numpy as np\n",
    "from pycuda import driver, compiler, gpuarray, tools\n",
    "\n",
    "# -- initialize the device\n",
    "import pycuda.autoinit"
   ]
  },
  {
   "cell_type": "code",
   "execution_count": 2,
   "metadata": {
    "collapsed": true
   },
   "outputs": [],
   "source": [
    "kernel_code_template = \"\"\"\n",
    "__global__ void MatrixMulKernel(float *a, float *b, float *c)\n",
    "{\n",
    "    // 2D Thread ID (assuming that only *one* block will be executed)\n",
    "    int tx = threadIdx.x;\n",
    "    int ty = threadIdx.y;\n",
    "    int x_size = blockDim.x;\n",
    "\n",
    "    // sum is used to store the element of the matrix\n",
    "    // that is computed by the thread\n",
    "    float sum = 0;\n",
    "\n",
    "    // Each thread loads one row of M and one column of N, \n",
    "    //   to produce one element of P.\n",
    "    for (int k = 0; k < %(MATRIX_SIZE)s; ++k) {\n",
    "        float Aelement = a[ty * %(MATRIX_SIZE)s + k];\n",
    "        float Belement = b[k * x_size + tx];\n",
    "        sum += Aelement * Belement;\n",
    "    }\n",
    "\n",
    "    // Write the matrix to device memory;\n",
    "    // each thread writes one element\n",
    "    c[ty * x_size + tx] = sum;\n",
    "}\n",
    "\"\"\""
   ]
  },
  {
   "cell_type": "code",
   "execution_count": 3,
   "metadata": {
    "collapsed": true
   },
   "outputs": [],
   "source": [
    "MATRIX_SIZE = 4000\n",
    "SPLIT_SIZE = 1000\n",
    "\n",
    "kernel_code = kernel_code_template % {\n",
    "    'MATRIX_SIZE': MATRIX_SIZE\n",
    "    }\n",
    "\n",
    "# compile the kernel code \n",
    "mod = compiler.SourceModule(kernel_code)\n",
    "\n",
    "# get the kernel function from the compiled module\n",
    "matrixmul = mod.get_function(\"MatrixMulKernel\")"
   ]
  },
  {
   "cell_type": "code",
   "execution_count": 4,
   "metadata": {},
   "outputs": [],
   "source": [
    "a_cpu = np.random.randn(MATRIX_SIZE, MATRIX_SIZE).astype(np.float32)\n",
    "b_cpu = np.random.randn(MATRIX_SIZE, MATRIX_SIZE).astype(np.float32)\n",
    "c_cpu = np.empty((MATRIX_SIZE, MATRIX_SIZE))\n",
    "# create empty gpu array for the result (C = A * B)\n",
    "c_gpu = gpuarray.empty((SPLIT_SIZE, SPLIT_SIZE), np.float32)"
   ]
  },
  {
   "cell_type": "code",
   "execution_count": 5,
   "metadata": {
    "scrolled": true
   },
   "outputs": [
    {
     "ename": "LogicError",
     "evalue": "cuFuncSetBlockShape failed: invalid argument",
     "output_type": "error",
     "traceback": [
      "\u001b[0;31m---------------------------------------------------------------------------\u001b[0m",
      "\u001b[0;31mLogicError\u001b[0m                                Traceback (most recent call last)",
      "\u001b[0;32m<ipython-input-5-2fbd9258d590>\u001b[0m in \u001b[0;36m<module>\u001b[0;34m()\u001b[0m\n\u001b[1;32m      5\u001b[0m         \u001b[0mb_gpu\u001b[0m \u001b[0;34m=\u001b[0m \u001b[0mgpuarray\u001b[0m\u001b[0;34m.\u001b[0m\u001b[0mto_gpu\u001b[0m\u001b[0;34m(\u001b[0m\u001b[0mb_cpu\u001b[0m\u001b[0;34m[\u001b[0m \u001b[0;34m:\u001b[0m\u001b[0;34m,\u001b[0m \u001b[0mx\u001b[0m\u001b[0;34m:\u001b[0m\u001b[0mx\u001b[0m\u001b[0;34m+\u001b[0m\u001b[0mSPLIT_SIZE\u001b[0m\u001b[0;34m]\u001b[0m\u001b[0;34m)\u001b[0m\u001b[0;34m\u001b[0m\u001b[0m\n\u001b[1;32m      6\u001b[0m \u001b[0;34m\u001b[0m\u001b[0m\n\u001b[0;32m----> 7\u001b[0;31m         \u001b[0mmatrixmul\u001b[0m\u001b[0;34m(\u001b[0m \u001b[0ma_gpu\u001b[0m\u001b[0;34m,\u001b[0m \u001b[0mb_gpu\u001b[0m\u001b[0;34m,\u001b[0m \u001b[0mc_gpu\u001b[0m\u001b[0;34m,\u001b[0m \u001b[0mblock\u001b[0m \u001b[0;34m=\u001b[0m \u001b[0;34m(\u001b[0m\u001b[0mSPLIT_SIZE\u001b[0m\u001b[0;34m,\u001b[0m \u001b[0mSPLIT_SIZE\u001b[0m\u001b[0;34m,\u001b[0m \u001b[0;36m1\u001b[0m\u001b[0;34m)\u001b[0m \u001b[0;34m)\u001b[0m\u001b[0;34m\u001b[0m\u001b[0m\n\u001b[0m\u001b[1;32m      8\u001b[0m         \u001b[0mc_cpu\u001b[0m\u001b[0;34m[\u001b[0m\u001b[0my\u001b[0m\u001b[0;34m:\u001b[0m\u001b[0my\u001b[0m\u001b[0;34m+\u001b[0m\u001b[0mSPLIT_SIZE\u001b[0m\u001b[0;34m,\u001b[0m \u001b[0mx\u001b[0m\u001b[0;34m:\u001b[0m\u001b[0mx\u001b[0m\u001b[0;34m+\u001b[0m\u001b[0mSPLIT_SIZE\u001b[0m\u001b[0;34m]\u001b[0m \u001b[0;34m=\u001b[0m \u001b[0mc_gpu\u001b[0m\u001b[0;34m.\u001b[0m\u001b[0mget\u001b[0m\u001b[0;34m(\u001b[0m\u001b[0;34m)\u001b[0m\u001b[0;34m\u001b[0m\u001b[0m\n",
      "\u001b[0;32m~/anaconda3/lib/python3.6/site-packages/pycuda/driver.py\u001b[0m in \u001b[0;36mfunction_call\u001b[0;34m(func, *args, **kwargs)\u001b[0m\n\u001b[1;32m    380\u001b[0m             \u001b[0;32mraise\u001b[0m \u001b[0mValueError\u001b[0m\u001b[0;34m(\u001b[0m\u001b[0;34m\"must specify block size\"\u001b[0m\u001b[0;34m)\u001b[0m\u001b[0;34m\u001b[0m\u001b[0m\n\u001b[1;32m    381\u001b[0m \u001b[0;34m\u001b[0m\u001b[0m\n\u001b[0;32m--> 382\u001b[0;31m         \u001b[0mfunc\u001b[0m\u001b[0;34m.\u001b[0m\u001b[0m_set_block_shape\u001b[0m\u001b[0;34m(\u001b[0m\u001b[0;34m*\u001b[0m\u001b[0mblock\u001b[0m\u001b[0;34m)\u001b[0m\u001b[0;34m\u001b[0m\u001b[0m\n\u001b[0m\u001b[1;32m    383\u001b[0m         \u001b[0mhandlers\u001b[0m\u001b[0;34m,\u001b[0m \u001b[0marg_buf\u001b[0m \u001b[0;34m=\u001b[0m \u001b[0m_build_arg_buf\u001b[0m\u001b[0;34m(\u001b[0m\u001b[0margs\u001b[0m\u001b[0;34m)\u001b[0m\u001b[0;34m\u001b[0m\u001b[0m\n\u001b[1;32m    384\u001b[0m \u001b[0;34m\u001b[0m\u001b[0m\n",
      "\u001b[0;31mLogicError\u001b[0m: cuFuncSetBlockShape failed: invalid argument"
     ]
    }
   ],
   "source": [
    "for x in range(0, MATRIX_SIZE, SPLIT_SIZE):\n",
    "    for y in range(0, MATRIX_SIZE, SPLIT_SIZE):\n",
    "        # transfer host (CPU) memory to device (GPU) memory\n",
    "        a_gpu = gpuarray.to_gpu(a_cpu[y:y+SPLIT_SIZE, : ])\n",
    "        b_gpu = gpuarray.to_gpu(b_cpu[ :, x:x+SPLIT_SIZE])\n",
    "\n",
    "        matrixmul( a_gpu, b_gpu, c_gpu, block = (SPLIT_SIZE, SPLIT_SIZE, 1) )\n",
    "        c_cpu[y:y+SPLIT_SIZE, x:x+SPLIT_SIZE] = c_gpu.get()"
   ]
  },
  {
   "cell_type": "code",
   "execution_count": 6,
   "metadata": {
    "collapsed": true
   },
   "outputs": [],
   "source": [
    "kernel_code_template = \"\"\"\n",
    "__global__ void MatrixMulKernel(float *a, float *b, float *c)\n",
    "{\n",
    "    // 2D Thread ID (assuming that only *one* block will be executed)\n",
    "    int tx = blockIdx.x;\n",
    "    int ty = blockIdx.y;\n",
    "    int x_size = gridDim.x;\n",
    "\n",
    "    // sum is used to store the element of the matrix\n",
    "    // that is computed by the thread\n",
    "    float sum = 0;\n",
    "\n",
    "    // Each thread loads one row of M and one column of N, \n",
    "    //   to produce one element of P.\n",
    "    for (int k = 0; k < %(MATRIX_SIZE)s; ++k) {\n",
    "        float Aelement = a[ty * %(MATRIX_SIZE)s + k];\n",
    "        float Belement = b[k * x_size + tx];\n",
    "        sum += Aelement * Belement;\n",
    "    }\n",
    "\n",
    "    // Write the matrix to device memory;\n",
    "    // each thread writes one element\n",
    "    c[ty * x_size + tx] = sum;\n",
    "}\n",
    "\"\"\""
   ]
  },
  {
   "cell_type": "code",
   "execution_count": 7,
   "metadata": {
    "collapsed": true
   },
   "outputs": [],
   "source": [
    "MATRIX_SIZE = 4000\n",
    "SPLIT_SIZE = 1000\n",
    "\n",
    "kernel_code = kernel_code_template % {\n",
    "    'MATRIX_SIZE': MATRIX_SIZE\n",
    "    }\n",
    "\n",
    "# compile the kernel code \n",
    "mod = compiler.SourceModule(kernel_code)\n",
    "\n",
    "# get the kernel function from the compiled module\n",
    "matrixmul = mod.get_function(\"MatrixMulKernel\")"
   ]
  },
  {
   "cell_type": "code",
   "execution_count": 8,
   "metadata": {},
   "outputs": [],
   "source": [
    "for x in range(0, MATRIX_SIZE, SPLIT_SIZE):\n",
    "    for y in range(0, MATRIX_SIZE, SPLIT_SIZE):\n",
    "        # transfer host (CPU) memory to device (GPU) memory\n",
    "        a_gpu = gpuarray.to_gpu(a_cpu[y:y+SPLIT_SIZE, : ])\n",
    "        b_gpu = gpuarray.to_gpu(b_cpu[ :, x:x+SPLIT_SIZE])\n",
    "\n",
    "        matrixmul( a_gpu, b_gpu, c_gpu, grid = (SPLIT_SIZE, SPLIT_SIZE), block=(1,1,1))\n",
    "        c_cpu[y:y+SPLIT_SIZE, x:x+SPLIT_SIZE] = c_gpu.get()"
   ]
  },
  {
   "cell_type": "code",
   "execution_count": null,
   "metadata": {
    "collapsed": true
   },
   "outputs": [],
   "source": []
  }
 ],
 "metadata": {
  "kernelspec": {
   "display_name": "Python 3",
   "language": "python",
   "name": "python3"
  },
  "language_info": {
   "codemirror_mode": {
    "name": "ipython",
    "version": 3
   },
   "file_extension": ".py",
   "mimetype": "text/x-python",
   "name": "python",
   "nbconvert_exporter": "python",
   "pygments_lexer": "ipython3",
   "version": "3.6.3"
  }
 },
 "nbformat": 4,
 "nbformat_minor": 2
}
